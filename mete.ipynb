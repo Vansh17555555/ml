{
 "cells": [
  {
   "cell_type": "code",
   "execution_count": 28,
   "id": "8e248dd34c8a2e80",
   "metadata": {
    "ExecuteTime": {
     "end_time": "2024-07-20T12:15:24.195031Z",
     "start_time": "2024-07-20T12:15:24.186623Z"
    }
   },
   "outputs": [],
   "source": [
    "import numpy as np\n",
    "import pandas as pd\n",
    "from sklearn.preprocessing import LabelEncoder, StandardScaler\n",
    "from sklearn.model_selection import train_test_split\n",
    "from tensorflow.keras.models import Sequential, load_model\n",
    "from tensorflow.keras.layers import Dense, Dropout, BatchNormalization\n",
    "from tensorflow.keras.optimizers import Adam\n",
    "from sklearn.model_selection import KFold\n",
    "from tensorflow.keras.callbacks import EarlyStopping, ReduceLROnPlateau\n",
    "from sklearn.utils.class_weight import compute_class_weight\n",
    "from imblearn.over_sampling import SMOTE\n",
    "import joblib\n",
    "import random\n",
    "from sklearn.exceptions import NotFittedError\n"
   ]
  },
  {
   "cell_type": "code",
   "execution_count": 29,
   "id": "4a8919c80de5beee",
   "metadata": {
    "ExecuteTime": {
     "end_time": "2024-07-20T12:15:33.822668Z",
     "start_time": "2024-07-20T12:15:26.198915Z"
    }
   },
   "outputs": [],
   "source": [
    "# Load your dataset\n",
    "data = pd.read_csv('synthetic.csv', low_memory=False)\n",
    "\n",
    "# Handling missing values (if any)\n",
    "data = data.dropna()\n",
    "\n"
   ]
  },
  {
   "cell_type": "code",
   "execution_count": 30,
   "id": "4f178a5e",
   "metadata": {},
   "outputs": [
    {
     "data": {
      "text/plain": "      transaction_amount  transaction_frequency    distance  account_age_days  \\\n0             639.192309                     28    3.615184              3200   \n1             576.710111                     38  277.190442              1271   \n2             801.978725                     21  142.865170               540   \n3              38.896766                     47  484.538909               407   \n4             441.023938                     26  535.372215              3526   \n...                  ...                    ...         ...               ...   \n4995          847.855925                     31  917.351723              1382   \n4996          975.109237                     13  214.668626              1512   \n4997          148.035754                     15  775.262085              2492   \n4998          641.644769                     49  827.132371              1897   \n4999           71.999736                      5  790.074897               950   \n\n      transaction_recency  unusual_activity_flag  num_unique_devices  \\\n0                      94                      1                   4   \n1                     113                      1                   6   \n2                     273                      0                   2   \n3                      71                      1                   7   \n4                      53                      0                   9   \n...                   ...                    ...                 ...   \n4995                  169                      1                   7   \n4996                  110                      0                   2   \n4997                  155                      0                   7   \n4998                  135                      1                   2   \n4999                  182                      0                   4   \n\n      num_unique_locations blacklist_whitelist_status  \\\n0                        6                  blacklist   \n1                        7                  blacklist   \n2                        7                  blacklist   \n3                        7                  whitelist   \n4                        9                  blacklist   \n...                    ...                        ...   \n4995                     7                  blacklist   \n4996                     1                  blacklist   \n4997                     2                  blacklist   \n4998                     9                  whitelist   \n4999                     1                  whitelist   \n\n      transaction_amount_deviation  credit_score account_status  is_fraud  \\\n0                        26.533051           383       inactive         0   \n1                       224.145688           625       inactive         0   \n2                       335.395544           432         active         1   \n3                       387.634134           665         active         1   \n4                       162.939910           540         active         1   \n...                            ...           ...            ...       ...   \n4995                     60.612207           763       inactive         0   \n4996                     65.383360           816       inactive         1   \n4997                    450.907835           801       inactive         0   \n4998                    249.279502           500         active         1   \n4999                    251.914476           507       inactive         0   \n\n      fraud_score  \n0        0.799771  \n1        0.085106  \n2        0.971147  \n3        0.216646  \n4        0.440403  \n...           ...  \n4995     0.488629  \n4996     0.854843  \n4997     0.465546  \n4998     0.264145  \n4999     0.969202  \n\n[5000 rows x 14 columns]",
      "text/html": "<div>\n<style scoped>\n    .dataframe tbody tr th:only-of-type {\n        vertical-align: middle;\n    }\n\n    .dataframe tbody tr th {\n        vertical-align: top;\n    }\n\n    .dataframe thead th {\n        text-align: right;\n    }\n</style>\n<table border=\"1\" class=\"dataframe\">\n  <thead>\n    <tr style=\"text-align: right;\">\n      <th></th>\n      <th>transaction_amount</th>\n      <th>transaction_frequency</th>\n      <th>distance</th>\n      <th>account_age_days</th>\n      <th>transaction_recency</th>\n      <th>unusual_activity_flag</th>\n      <th>num_unique_devices</th>\n      <th>num_unique_locations</th>\n      <th>blacklist_whitelist_status</th>\n      <th>transaction_amount_deviation</th>\n      <th>credit_score</th>\n      <th>account_status</th>\n      <th>is_fraud</th>\n      <th>fraud_score</th>\n    </tr>\n  </thead>\n  <tbody>\n    <tr>\n      <th>0</th>\n      <td>639.192309</td>\n      <td>28</td>\n      <td>3.615184</td>\n      <td>3200</td>\n      <td>94</td>\n      <td>1</td>\n      <td>4</td>\n      <td>6</td>\n      <td>blacklist</td>\n      <td>26.533051</td>\n      <td>383</td>\n      <td>inactive</td>\n      <td>0</td>\n      <td>0.799771</td>\n    </tr>\n    <tr>\n      <th>1</th>\n      <td>576.710111</td>\n      <td>38</td>\n      <td>277.190442</td>\n      <td>1271</td>\n      <td>113</td>\n      <td>1</td>\n      <td>6</td>\n      <td>7</td>\n      <td>blacklist</td>\n      <td>224.145688</td>\n      <td>625</td>\n      <td>inactive</td>\n      <td>0</td>\n      <td>0.085106</td>\n    </tr>\n    <tr>\n      <th>2</th>\n      <td>801.978725</td>\n      <td>21</td>\n      <td>142.865170</td>\n      <td>540</td>\n      <td>273</td>\n      <td>0</td>\n      <td>2</td>\n      <td>7</td>\n      <td>blacklist</td>\n      <td>335.395544</td>\n      <td>432</td>\n      <td>active</td>\n      <td>1</td>\n      <td>0.971147</td>\n    </tr>\n    <tr>\n      <th>3</th>\n      <td>38.896766</td>\n      <td>47</td>\n      <td>484.538909</td>\n      <td>407</td>\n      <td>71</td>\n      <td>1</td>\n      <td>7</td>\n      <td>7</td>\n      <td>whitelist</td>\n      <td>387.634134</td>\n      <td>665</td>\n      <td>active</td>\n      <td>1</td>\n      <td>0.216646</td>\n    </tr>\n    <tr>\n      <th>4</th>\n      <td>441.023938</td>\n      <td>26</td>\n      <td>535.372215</td>\n      <td>3526</td>\n      <td>53</td>\n      <td>0</td>\n      <td>9</td>\n      <td>9</td>\n      <td>blacklist</td>\n      <td>162.939910</td>\n      <td>540</td>\n      <td>active</td>\n      <td>1</td>\n      <td>0.440403</td>\n    </tr>\n    <tr>\n      <th>...</th>\n      <td>...</td>\n      <td>...</td>\n      <td>...</td>\n      <td>...</td>\n      <td>...</td>\n      <td>...</td>\n      <td>...</td>\n      <td>...</td>\n      <td>...</td>\n      <td>...</td>\n      <td>...</td>\n      <td>...</td>\n      <td>...</td>\n      <td>...</td>\n    </tr>\n    <tr>\n      <th>4995</th>\n      <td>847.855925</td>\n      <td>31</td>\n      <td>917.351723</td>\n      <td>1382</td>\n      <td>169</td>\n      <td>1</td>\n      <td>7</td>\n      <td>7</td>\n      <td>blacklist</td>\n      <td>60.612207</td>\n      <td>763</td>\n      <td>inactive</td>\n      <td>0</td>\n      <td>0.488629</td>\n    </tr>\n    <tr>\n      <th>4996</th>\n      <td>975.109237</td>\n      <td>13</td>\n      <td>214.668626</td>\n      <td>1512</td>\n      <td>110</td>\n      <td>0</td>\n      <td>2</td>\n      <td>1</td>\n      <td>blacklist</td>\n      <td>65.383360</td>\n      <td>816</td>\n      <td>inactive</td>\n      <td>1</td>\n      <td>0.854843</td>\n    </tr>\n    <tr>\n      <th>4997</th>\n      <td>148.035754</td>\n      <td>15</td>\n      <td>775.262085</td>\n      <td>2492</td>\n      <td>155</td>\n      <td>0</td>\n      <td>7</td>\n      <td>2</td>\n      <td>blacklist</td>\n      <td>450.907835</td>\n      <td>801</td>\n      <td>inactive</td>\n      <td>0</td>\n      <td>0.465546</td>\n    </tr>\n    <tr>\n      <th>4998</th>\n      <td>641.644769</td>\n      <td>49</td>\n      <td>827.132371</td>\n      <td>1897</td>\n      <td>135</td>\n      <td>1</td>\n      <td>2</td>\n      <td>9</td>\n      <td>whitelist</td>\n      <td>249.279502</td>\n      <td>500</td>\n      <td>active</td>\n      <td>1</td>\n      <td>0.264145</td>\n    </tr>\n    <tr>\n      <th>4999</th>\n      <td>71.999736</td>\n      <td>5</td>\n      <td>790.074897</td>\n      <td>950</td>\n      <td>182</td>\n      <td>0</td>\n      <td>4</td>\n      <td>1</td>\n      <td>whitelist</td>\n      <td>251.914476</td>\n      <td>507</td>\n      <td>inactive</td>\n      <td>0</td>\n      <td>0.969202</td>\n    </tr>\n  </tbody>\n</table>\n<p>5000 rows × 14 columns</p>\n</div>"
     },
     "execution_count": 30,
     "metadata": {},
     "output_type": "execute_result"
    }
   ],
   "source": [
    "data"
   ]
  },
  {
   "cell_type": "code",
   "execution_count": 31,
   "id": "acac0dca6f02d582",
   "metadata": {
    "ExecuteTime": {
     "end_time": "2024-07-20T12:15:44.029513Z",
     "start_time": "2024-07-20T12:15:44.017076Z"
    }
   },
   "outputs": [],
   "source": [
    "\n",
    "\n",
    "# List of essential features to retain\n",
    "essential_features = [\n",
    "    'transaction_amount',\n",
    "    'transaction_frequency',\n",
    "    'distance',\n",
    "    'account_age_days',\n",
    "    'transaction_recency',\n",
    "    'unusual_activity_flag',\n",
    "    'num_unique_devices',\n",
    "    'num_unique_locations',\n",
    "    'blacklist_whitelist_status',\n",
    "    'transaction_amount_deviation',\n",
    "    'credit_score',\n",
    "    'account_status'\n",
    "]\n"
   ]
  },
  {
   "cell_type": "code",
   "execution_count": 32,
   "id": "af8e897d57bacd81",
   "metadata": {
    "ExecuteTime": {
     "end_time": "2024-07-20T12:15:47.440582Z",
     "start_time": "2024-07-20T12:15:47.429763Z"
    }
   },
   "outputs": [],
   "source": [
    "# Combine essential features and additional columns\n",
    "columns_to_keep = essential_features + ['is_fraud']\n",
    "\n",
    "# Ensure all specified columns are in the dataset\n",
    "for column in columns_to_keep:\n",
    "    if column not in data.columns:\n",
    "        raise ValueError(f\"Column '{column}' is missing from the dataset.\")\n",
    "\n",
    "# Drop all columns except the essential features\n",
    "data_filtered = data[columns_to_keep]\n",
    "\n",
    "# Define feature columns and target column\n",
    "feature_columns = essential_features\n",
    "target_column = 'is_fraud'\n",
    "\n",
    "# Split the data into features (X) and target (y)\n",
    "X = data_filtered[feature_columns]\n",
    "y = data_filtered[target_column]\n"
   ]
  },
  {
   "cell_type": "code",
   "execution_count": 33,
   "id": "6b8f9bf0",
   "metadata": {},
   "outputs": [
    {
     "data": {
      "text/plain": "      transaction_amount  transaction_frequency    distance  account_age_days  \\\n0             639.192309                     28    3.615184              3200   \n1             576.710111                     38  277.190442              1271   \n2             801.978725                     21  142.865170               540   \n3              38.896766                     47  484.538909               407   \n4             441.023938                     26  535.372215              3526   \n...                  ...                    ...         ...               ...   \n4995          847.855925                     31  917.351723              1382   \n4996          975.109237                     13  214.668626              1512   \n4997          148.035754                     15  775.262085              2492   \n4998          641.644769                     49  827.132371              1897   \n4999           71.999736                      5  790.074897               950   \n\n      transaction_recency  unusual_activity_flag  num_unique_devices  \\\n0                      94                      1                   4   \n1                     113                      1                   6   \n2                     273                      0                   2   \n3                      71                      1                   7   \n4                      53                      0                   9   \n...                   ...                    ...                 ...   \n4995                  169                      1                   7   \n4996                  110                      0                   2   \n4997                  155                      0                   7   \n4998                  135                      1                   2   \n4999                  182                      0                   4   \n\n      num_unique_locations blacklist_whitelist_status  \\\n0                        6                  blacklist   \n1                        7                  blacklist   \n2                        7                  blacklist   \n3                        7                  whitelist   \n4                        9                  blacklist   \n...                    ...                        ...   \n4995                     7                  blacklist   \n4996                     1                  blacklist   \n4997                     2                  blacklist   \n4998                     9                  whitelist   \n4999                     1                  whitelist   \n\n      transaction_amount_deviation  credit_score account_status  \n0                        26.533051           383       inactive  \n1                       224.145688           625       inactive  \n2                       335.395544           432         active  \n3                       387.634134           665         active  \n4                       162.939910           540         active  \n...                            ...           ...            ...  \n4995                     60.612207           763       inactive  \n4996                     65.383360           816       inactive  \n4997                    450.907835           801       inactive  \n4998                    249.279502           500         active  \n4999                    251.914476           507       inactive  \n\n[5000 rows x 12 columns]",
      "text/html": "<div>\n<style scoped>\n    .dataframe tbody tr th:only-of-type {\n        vertical-align: middle;\n    }\n\n    .dataframe tbody tr th {\n        vertical-align: top;\n    }\n\n    .dataframe thead th {\n        text-align: right;\n    }\n</style>\n<table border=\"1\" class=\"dataframe\">\n  <thead>\n    <tr style=\"text-align: right;\">\n      <th></th>\n      <th>transaction_amount</th>\n      <th>transaction_frequency</th>\n      <th>distance</th>\n      <th>account_age_days</th>\n      <th>transaction_recency</th>\n      <th>unusual_activity_flag</th>\n      <th>num_unique_devices</th>\n      <th>num_unique_locations</th>\n      <th>blacklist_whitelist_status</th>\n      <th>transaction_amount_deviation</th>\n      <th>credit_score</th>\n      <th>account_status</th>\n    </tr>\n  </thead>\n  <tbody>\n    <tr>\n      <th>0</th>\n      <td>639.192309</td>\n      <td>28</td>\n      <td>3.615184</td>\n      <td>3200</td>\n      <td>94</td>\n      <td>1</td>\n      <td>4</td>\n      <td>6</td>\n      <td>blacklist</td>\n      <td>26.533051</td>\n      <td>383</td>\n      <td>inactive</td>\n    </tr>\n    <tr>\n      <th>1</th>\n      <td>576.710111</td>\n      <td>38</td>\n      <td>277.190442</td>\n      <td>1271</td>\n      <td>113</td>\n      <td>1</td>\n      <td>6</td>\n      <td>7</td>\n      <td>blacklist</td>\n      <td>224.145688</td>\n      <td>625</td>\n      <td>inactive</td>\n    </tr>\n    <tr>\n      <th>2</th>\n      <td>801.978725</td>\n      <td>21</td>\n      <td>142.865170</td>\n      <td>540</td>\n      <td>273</td>\n      <td>0</td>\n      <td>2</td>\n      <td>7</td>\n      <td>blacklist</td>\n      <td>335.395544</td>\n      <td>432</td>\n      <td>active</td>\n    </tr>\n    <tr>\n      <th>3</th>\n      <td>38.896766</td>\n      <td>47</td>\n      <td>484.538909</td>\n      <td>407</td>\n      <td>71</td>\n      <td>1</td>\n      <td>7</td>\n      <td>7</td>\n      <td>whitelist</td>\n      <td>387.634134</td>\n      <td>665</td>\n      <td>active</td>\n    </tr>\n    <tr>\n      <th>4</th>\n      <td>441.023938</td>\n      <td>26</td>\n      <td>535.372215</td>\n      <td>3526</td>\n      <td>53</td>\n      <td>0</td>\n      <td>9</td>\n      <td>9</td>\n      <td>blacklist</td>\n      <td>162.939910</td>\n      <td>540</td>\n      <td>active</td>\n    </tr>\n    <tr>\n      <th>...</th>\n      <td>...</td>\n      <td>...</td>\n      <td>...</td>\n      <td>...</td>\n      <td>...</td>\n      <td>...</td>\n      <td>...</td>\n      <td>...</td>\n      <td>...</td>\n      <td>...</td>\n      <td>...</td>\n      <td>...</td>\n    </tr>\n    <tr>\n      <th>4995</th>\n      <td>847.855925</td>\n      <td>31</td>\n      <td>917.351723</td>\n      <td>1382</td>\n      <td>169</td>\n      <td>1</td>\n      <td>7</td>\n      <td>7</td>\n      <td>blacklist</td>\n      <td>60.612207</td>\n      <td>763</td>\n      <td>inactive</td>\n    </tr>\n    <tr>\n      <th>4996</th>\n      <td>975.109237</td>\n      <td>13</td>\n      <td>214.668626</td>\n      <td>1512</td>\n      <td>110</td>\n      <td>0</td>\n      <td>2</td>\n      <td>1</td>\n      <td>blacklist</td>\n      <td>65.383360</td>\n      <td>816</td>\n      <td>inactive</td>\n    </tr>\n    <tr>\n      <th>4997</th>\n      <td>148.035754</td>\n      <td>15</td>\n      <td>775.262085</td>\n      <td>2492</td>\n      <td>155</td>\n      <td>0</td>\n      <td>7</td>\n      <td>2</td>\n      <td>blacklist</td>\n      <td>450.907835</td>\n      <td>801</td>\n      <td>inactive</td>\n    </tr>\n    <tr>\n      <th>4998</th>\n      <td>641.644769</td>\n      <td>49</td>\n      <td>827.132371</td>\n      <td>1897</td>\n      <td>135</td>\n      <td>1</td>\n      <td>2</td>\n      <td>9</td>\n      <td>whitelist</td>\n      <td>249.279502</td>\n      <td>500</td>\n      <td>active</td>\n    </tr>\n    <tr>\n      <th>4999</th>\n      <td>71.999736</td>\n      <td>5</td>\n      <td>790.074897</td>\n      <td>950</td>\n      <td>182</td>\n      <td>0</td>\n      <td>4</td>\n      <td>1</td>\n      <td>whitelist</td>\n      <td>251.914476</td>\n      <td>507</td>\n      <td>inactive</td>\n    </tr>\n  </tbody>\n</table>\n<p>5000 rows × 12 columns</p>\n</div>"
     },
     "execution_count": 33,
     "metadata": {},
     "output_type": "execute_result"
    }
   ],
   "source": [
    "X"
   ]
  },
  {
   "cell_type": "code",
   "execution_count": 34,
   "id": "d8d4cc66",
   "metadata": {},
   "outputs": [
    {
     "name": "stderr",
     "output_type": "stream",
     "text": [
      "/var/folders/q2/mr2wxd253jl7621ph74vbnwr0000gn/T/ipykernel_67872/3922746437.py:2: SettingWithCopyWarning: \n",
      "A value is trying to be set on a copy of a slice from a DataFrame.\n",
      "Try using .loc[row_indexer,col_indexer] = value instead\n",
      "\n",
      "See the caveats in the documentation: https://pandas.pydata.org/pandas-docs/stable/user_guide/indexing.html#returning-a-view-versus-a-copy\n",
      "  X['blacklist_whitelist_status'] = label_encoder.fit_transform(X['blacklist_whitelist_status'])\n",
      "/var/folders/q2/mr2wxd253jl7621ph74vbnwr0000gn/T/ipykernel_67872/3922746437.py:3: SettingWithCopyWarning: \n",
      "A value is trying to be set on a copy of a slice from a DataFrame.\n",
      "Try using .loc[row_indexer,col_indexer] = value instead\n",
      "\n",
      "See the caveats in the documentation: https://pandas.pydata.org/pandas-docs/stable/user_guide/indexing.html#returning-a-view-versus-a-copy\n",
      "  X['account_status'] = label_encoder.fit_transform(X['account_status'])\n"
     ]
    }
   ],
   "source": [
    "label_encoder = LabelEncoder()\n",
    "X['blacklist_whitelist_status'] = label_encoder.fit_transform(X['blacklist_whitelist_status'])\n",
    "X['account_status'] = label_encoder.fit_transform(X['account_status'])"
   ]
  },
  {
   "cell_type": "code",
   "execution_count": 35,
   "id": "dd668436",
   "metadata": {},
   "outputs": [
    {
     "data": {
      "text/plain": "      transaction_amount  transaction_frequency    distance  account_age_days  \\\n0             639.192309                     28    3.615184              3200   \n1             576.710111                     38  277.190442              1271   \n2             801.978725                     21  142.865170               540   \n3              38.896766                     47  484.538909               407   \n4             441.023938                     26  535.372215              3526   \n...                  ...                    ...         ...               ...   \n4995          847.855925                     31  917.351723              1382   \n4996          975.109237                     13  214.668626              1512   \n4997          148.035754                     15  775.262085              2492   \n4998          641.644769                     49  827.132371              1897   \n4999           71.999736                      5  790.074897               950   \n\n      transaction_recency  unusual_activity_flag  num_unique_devices  \\\n0                      94                      1                   4   \n1                     113                      1                   6   \n2                     273                      0                   2   \n3                      71                      1                   7   \n4                      53                      0                   9   \n...                   ...                    ...                 ...   \n4995                  169                      1                   7   \n4996                  110                      0                   2   \n4997                  155                      0                   7   \n4998                  135                      1                   2   \n4999                  182                      0                   4   \n\n      num_unique_locations  blacklist_whitelist_status  \\\n0                        6                           0   \n1                        7                           0   \n2                        7                           0   \n3                        7                           1   \n4                        9                           0   \n...                    ...                         ...   \n4995                     7                           0   \n4996                     1                           0   \n4997                     2                           0   \n4998                     9                           1   \n4999                     1                           1   \n\n      transaction_amount_deviation  credit_score  account_status  \n0                        26.533051           383               1  \n1                       224.145688           625               1  \n2                       335.395544           432               0  \n3                       387.634134           665               0  \n4                       162.939910           540               0  \n...                            ...           ...             ...  \n4995                     60.612207           763               1  \n4996                     65.383360           816               1  \n4997                    450.907835           801               1  \n4998                    249.279502           500               0  \n4999                    251.914476           507               1  \n\n[5000 rows x 12 columns]",
      "text/html": "<div>\n<style scoped>\n    .dataframe tbody tr th:only-of-type {\n        vertical-align: middle;\n    }\n\n    .dataframe tbody tr th {\n        vertical-align: top;\n    }\n\n    .dataframe thead th {\n        text-align: right;\n    }\n</style>\n<table border=\"1\" class=\"dataframe\">\n  <thead>\n    <tr style=\"text-align: right;\">\n      <th></th>\n      <th>transaction_amount</th>\n      <th>transaction_frequency</th>\n      <th>distance</th>\n      <th>account_age_days</th>\n      <th>transaction_recency</th>\n      <th>unusual_activity_flag</th>\n      <th>num_unique_devices</th>\n      <th>num_unique_locations</th>\n      <th>blacklist_whitelist_status</th>\n      <th>transaction_amount_deviation</th>\n      <th>credit_score</th>\n      <th>account_status</th>\n    </tr>\n  </thead>\n  <tbody>\n    <tr>\n      <th>0</th>\n      <td>639.192309</td>\n      <td>28</td>\n      <td>3.615184</td>\n      <td>3200</td>\n      <td>94</td>\n      <td>1</td>\n      <td>4</td>\n      <td>6</td>\n      <td>0</td>\n      <td>26.533051</td>\n      <td>383</td>\n      <td>1</td>\n    </tr>\n    <tr>\n      <th>1</th>\n      <td>576.710111</td>\n      <td>38</td>\n      <td>277.190442</td>\n      <td>1271</td>\n      <td>113</td>\n      <td>1</td>\n      <td>6</td>\n      <td>7</td>\n      <td>0</td>\n      <td>224.145688</td>\n      <td>625</td>\n      <td>1</td>\n    </tr>\n    <tr>\n      <th>2</th>\n      <td>801.978725</td>\n      <td>21</td>\n      <td>142.865170</td>\n      <td>540</td>\n      <td>273</td>\n      <td>0</td>\n      <td>2</td>\n      <td>7</td>\n      <td>0</td>\n      <td>335.395544</td>\n      <td>432</td>\n      <td>0</td>\n    </tr>\n    <tr>\n      <th>3</th>\n      <td>38.896766</td>\n      <td>47</td>\n      <td>484.538909</td>\n      <td>407</td>\n      <td>71</td>\n      <td>1</td>\n      <td>7</td>\n      <td>7</td>\n      <td>1</td>\n      <td>387.634134</td>\n      <td>665</td>\n      <td>0</td>\n    </tr>\n    <tr>\n      <th>4</th>\n      <td>441.023938</td>\n      <td>26</td>\n      <td>535.372215</td>\n      <td>3526</td>\n      <td>53</td>\n      <td>0</td>\n      <td>9</td>\n      <td>9</td>\n      <td>0</td>\n      <td>162.939910</td>\n      <td>540</td>\n      <td>0</td>\n    </tr>\n    <tr>\n      <th>...</th>\n      <td>...</td>\n      <td>...</td>\n      <td>...</td>\n      <td>...</td>\n      <td>...</td>\n      <td>...</td>\n      <td>...</td>\n      <td>...</td>\n      <td>...</td>\n      <td>...</td>\n      <td>...</td>\n      <td>...</td>\n    </tr>\n    <tr>\n      <th>4995</th>\n      <td>847.855925</td>\n      <td>31</td>\n      <td>917.351723</td>\n      <td>1382</td>\n      <td>169</td>\n      <td>1</td>\n      <td>7</td>\n      <td>7</td>\n      <td>0</td>\n      <td>60.612207</td>\n      <td>763</td>\n      <td>1</td>\n    </tr>\n    <tr>\n      <th>4996</th>\n      <td>975.109237</td>\n      <td>13</td>\n      <td>214.668626</td>\n      <td>1512</td>\n      <td>110</td>\n      <td>0</td>\n      <td>2</td>\n      <td>1</td>\n      <td>0</td>\n      <td>65.383360</td>\n      <td>816</td>\n      <td>1</td>\n    </tr>\n    <tr>\n      <th>4997</th>\n      <td>148.035754</td>\n      <td>15</td>\n      <td>775.262085</td>\n      <td>2492</td>\n      <td>155</td>\n      <td>0</td>\n      <td>7</td>\n      <td>2</td>\n      <td>0</td>\n      <td>450.907835</td>\n      <td>801</td>\n      <td>1</td>\n    </tr>\n    <tr>\n      <th>4998</th>\n      <td>641.644769</td>\n      <td>49</td>\n      <td>827.132371</td>\n      <td>1897</td>\n      <td>135</td>\n      <td>1</td>\n      <td>2</td>\n      <td>9</td>\n      <td>1</td>\n      <td>249.279502</td>\n      <td>500</td>\n      <td>0</td>\n    </tr>\n    <tr>\n      <th>4999</th>\n      <td>71.999736</td>\n      <td>5</td>\n      <td>790.074897</td>\n      <td>950</td>\n      <td>182</td>\n      <td>0</td>\n      <td>4</td>\n      <td>1</td>\n      <td>1</td>\n      <td>251.914476</td>\n      <td>507</td>\n      <td>1</td>\n    </tr>\n  </tbody>\n</table>\n<p>5000 rows × 12 columns</p>\n</div>"
     },
     "execution_count": 35,
     "metadata": {},
     "output_type": "execute_result"
    }
   ],
   "source": [
    "X"
   ]
  },
  {
   "cell_type": "code",
   "execution_count": 36,
   "id": "a8dc82149c98d7f3",
   "metadata": {
    "ExecuteTime": {
     "end_time": "2024-07-20T12:15:49.907774Z",
     "start_time": "2024-07-20T12:15:49.883209Z"
    }
   },
   "outputs": [
    {
     "name": "stdout",
     "output_type": "stream",
     "text": [
      "   transaction_amount  transaction_frequency    distance  account_age_days  \\\n",
      "0          639.192309                     28    3.615184              3200   \n",
      "1          576.710111                     38  277.190442              1271   \n",
      "2          801.978725                     21  142.865170               540   \n",
      "3           38.896766                     47  484.538909               407   \n",
      "4          441.023938                     26  535.372215              3526   \n",
      "\n",
      "   transaction_recency  unusual_activity_flag  num_unique_devices  \\\n",
      "0                   94                      1                   4   \n",
      "1                  113                      1                   6   \n",
      "2                  273                      0                   2   \n",
      "3                   71                      1                   7   \n",
      "4                   53                      0                   9   \n",
      "\n",
      "   num_unique_locations  blacklist_whitelist_status  \\\n",
      "0                     6                           0   \n",
      "1                     7                           0   \n",
      "2                     7                           0   \n",
      "3                     7                           1   \n",
      "4                     9                           0   \n",
      "\n",
      "   transaction_amount_deviation  credit_score  account_status  \n",
      "0                     26.533051           383               1  \n",
      "1                    224.145688           625               1  \n",
      "2                    335.395544           432               0  \n",
      "3                    387.634134           665               0  \n",
      "4                    162.939910           540               0  \n",
      "   is_fraud\n",
      "0         0\n",
      "1         0\n",
      "2         1\n",
      "3         1\n",
      "4         1\n",
      "is_fraud\n",
      "0    2547\n",
      "1    2547\n",
      "Name: count, dtype: int64\n"
     ]
    }
   ],
   "source": [
    "# Apply SMOTE to handle class imbalance\n",
    "smote = SMOTE(random_state=42)\n",
    "X_resampled, y_resampled = smote.fit_resample(X, y)\n",
    "\n",
    "# Display the resampled data\n",
    "print(pd.DataFrame(X_resampled, columns=feature_columns).head())\n",
    "print(pd.DataFrame(y_resampled, columns=[target_column]).head())\n",
    "\n",
    "# Display the resampled class distribution\n",
    "print(pd.Series(y_resampled).value_counts())\n"
   ]
  },
  {
   "cell_type": "code",
   "execution_count": 37,
   "id": "e9ad69d850ff645a",
   "metadata": {
    "ExecuteTime": {
     "end_time": "2024-07-20T12:15:54.394573Z",
     "start_time": "2024-07-20T12:15:54.376088Z"
    }
   },
   "outputs": [],
   "source": [
    "\n",
    "# Split the resampled data into training and testing sets\n",
    "X_train, X_test, y_train, y_test = train_test_split(X_resampled, y_resampled, test_size=0.2, random_state=3)\n",
    "\n",
    "# Scale the features\n",
    "scaler = StandardScaler()\n",
    "X_train_scaled = scaler.fit_transform(X_train)\n",
    "X_test_scaled = scaler.transform(X_test)\n",
    "\n"
   ]
  },
  {
   "cell_type": "code",
   "execution_count": 25,
   "id": "359b19f79614d1f0",
   "metadata": {
    "ExecuteTime": {
     "end_time": "2024-07-20T12:32:35.692555Z",
     "start_time": "2024-07-20T12:32:35.682552Z"
    }
   },
   "outputs": [],
   "source": [
    "# print the values of the target column which have one of the values of the target column"
   ]
  },
  {
   "cell_type": "code",
   "execution_count": 38,
   "id": "5572ae66f6f92250",
   "metadata": {},
   "outputs": [
    {
     "name": "stdout",
     "output_type": "stream",
     "text": [
      "<class 'pandas.core.frame.DataFrame'>\n",
      "RangeIndex: 5000 entries, 0 to 4999\n",
      "Data columns (total 12 columns):\n",
      " #   Column                        Non-Null Count  Dtype  \n",
      "---  ------                        --------------  -----  \n",
      " 0   transaction_amount            5000 non-null   float64\n",
      " 1   transaction_frequency         5000 non-null   int64  \n",
      " 2   distance                      5000 non-null   float64\n",
      " 3   account_age_days              5000 non-null   int64  \n",
      " 4   transaction_recency           5000 non-null   int64  \n",
      " 5   unusual_activity_flag         5000 non-null   int64  \n",
      " 6   num_unique_devices            5000 non-null   int64  \n",
      " 7   num_unique_locations          5000 non-null   int64  \n",
      " 8   blacklist_whitelist_status    5000 non-null   int64  \n",
      " 9   transaction_amount_deviation  5000 non-null   float64\n",
      " 10  credit_score                  5000 non-null   int64  \n",
      " 11  account_status                5000 non-null   int64  \n",
      "dtypes: float64(3), int64(9)\n",
      "memory usage: 468.9 KB\n"
     ]
    }
   ],
   "source": [
    "X.info()"
   ]
  },
  {
   "cell_type": "code",
   "execution_count": 41,
   "id": "13b5937a49c7c85a",
   "metadata": {
    "ExecuteTime": {
     "end_time": "2024-07-20T12:15:58.948158Z",
     "start_time": "2024-07-20T12:15:58.935890Z"
    }
   },
   "outputs": [
    {
     "name": "stdout",
     "output_type": "stream",
     "text": [
      "[[ 1.30219199e+02  7.13468364e+01  8.74757354e+00 -1.73895034e+00\n",
      "  -8.77992559e-01  6.10423068e+02 -1.96676658e+00  7.84346595e-01\n",
      "   1.09964713e+01 -1.76912411e+00 -5.83995561e-01 -9.66558833e-01]]\n"
     ]
    },
    {
     "name": "stderr",
     "output_type": "stream",
     "text": [
      "/Users/shivanshmahajan/Desktop/Innovate/venv/lib/python3.9/site-packages/sklearn/base.py:493: UserWarning: X does not have valid feature names, but StandardScaler was fitted with feature names\n",
      "  warnings.warn(\n"
     ]
    }
   ],
   "source": [
    "from sklearn.exceptions import NotFittedError\n",
    "# Fit the scaler\n",
    "scaler = StandardScaler()\n",
    "scaler.fit(X)\n",
    "\n",
    "def get_user_input():\n",
    "    return {\n",
    "        'amount': float(input(\"Enter transaction amount: \")),\n",
    "        'balance': float(input(\"Enter current balance: \")),\n",
    "        'credit_score': float(input(\"Enter credit score (300-850): \"))\n",
    "    }\n",
    "\n",
    "def enrich_transaction_data(user_input):\n",
    "    # Simulate additional data\n",
    "    transaction = user_input.copy()\n",
    "    transaction['oldbalanceOrg'] = transaction['balance']\n",
    "    transaction['newbalanceOrig'] = transaction['balance'] - transaction['amount']\n",
    "    transaction['oldbalanceDest'] = random.uniform(0, 10000)  # Simulated receiver's old balance\n",
    "    transaction['newbalanceDest'] = transaction['oldbalanceDest'] + transaction['amount']\n",
    "    transaction['transaction_frequency'] = random.randint(1, 50)  # Simulated frequency\n",
    "    transaction['transaction_recency'] = random.randint(1, 365)  # Days since last transaction\n",
    "    transaction['distance'] = random.uniform(0, 1000)  # Simulated distance\n",
    "    transaction['unusual_activity_flag'] = 1 if random.random() < 0.1 else 0  # 10% chance of unusual activity\n",
    "    transaction['num_unique_devices'] = random.randint(1, 10)  # Simulated number of unique devices\n",
    "    transaction['num_unique_locations'] = random.randint(1, 10)  # Simulated number of unique locations\n",
    "    transaction['blacklist_whitelist_status'] = random.choice([0, 1])  # 0: blacklist, 1: whitelist\n",
    "    transaction['transaction_amount_deviation'] = random.uniform(0, 500)  # Simulated amount deviation\n",
    "    transaction['account_status'] = random.choice([0, 1])  # 0: inactive, 1: active\n",
    "    transaction['is_fraud'] = random.randint(0, 1)  # Simulated fraud status\n",
    "\n",
    "    return transaction\n",
    "def preprocess_transaction(transaction, scaler):\n",
    "    features = [  'newbalanceOrig', 'oldbalanceDest', 'newbalanceDest',\n",
    "                'transaction_frequency', 'transaction_recency', 'distance', 'unusual_activity_flag',\n",
    "                'num_unique_devices', 'num_unique_locations', 'blacklist_whitelist_status',\n",
    "                'transaction_amount_deviation',  'account_status']\n",
    "\n",
    "    # Ensure transaction dictionary has all required features\n",
    "    assert all(feature in transaction for feature in features), \"Missing features in the transaction data\"\n",
    "\n",
    "    transaction_values = np.array([transaction[feature] for feature in features]).reshape(1, -1)\n",
    "    try:\n",
    "        transaction_scaled = scaler.transform(transaction_values)\n",
    "    except NotFittedError as e:\n",
    "        print(f\"Error: {e}\")\n",
    "        return None\n",
    "    return transaction_scaled\n",
    "\n",
    "\n",
    "# Example usage\n",
    "if __name__ == \"__main__\":\n",
    "    user_input = get_user_input()\n",
    "    enriched_transaction = enrich_transaction_data(user_input)\n",
    "    preprocessed_transaction = preprocess_transaction(enriched_transaction, scaler)\n",
    "    if preprocessed_transaction is not None:\n",
    "        print(preprocessed_transaction)"
   ]
  },
  {
   "cell_type": "code",
   "execution_count": null,
   "id": "174d9f16",
   "metadata": {},
   "outputs": [],
   "source": []
  },
  {
   "cell_type": "code",
   "execution_count": 42,
   "id": "b91a1b690896c0a9",
   "metadata": {
    "ExecuteTime": {
     "end_time": "2024-07-20T12:16:02.289035Z",
     "start_time": "2024-07-20T12:16:02.279025Z"
    }
   },
   "outputs": [
    {
     "name": "stdout",
     "output_type": "stream",
     "text": [
      "is_fraud\n",
      "0    2547\n",
      "1    2453\n",
      "Name: count, dtype: int64\n"
     ]
    }
   ],
   "source": [
    "print(data['is_fraud'].value_counts())"
   ]
  },
  {
   "cell_type": "code",
   "execution_count": 44,
   "id": "15a769f8b946f201",
   "metadata": {
    "ExecuteTime": {
     "end_time": "2024-07-20T12:19:09.308523Z",
     "start_time": "2024-07-20T12:19:09.301494Z"
    }
   },
   "outputs": [
    {
     "data": {
      "text/plain": "['scaler1.pkl']"
     },
     "execution_count": 44,
     "metadata": {},
     "output_type": "execute_result"
    }
   ],
   "source": [
    "# Save the scaler\n",
    "joblib.dump(scaler, 'scaler1.pkl')\n"
   ]
  },
  {
   "cell_type": "code",
   "execution_count": 45,
   "id": "449a00632d830c9c",
   "metadata": {
    "ExecuteTime": {
     "end_time": "2024-07-20T12:16:37.377605Z",
     "start_time": "2024-07-20T12:16:37.367363Z"
    }
   },
   "outputs": [],
   "source": [
    "from tensorflow.keras.models import Sequential\n",
    "from tensorflow.keras.layers import Dense, BatchNormalization, Dropout\n",
    "from tensorflow.keras.optimizers import Adam\n",
    "from tensorflow.keras import Input\n",
    "\n",
    "def create_model(input_shape):\n",
    "    model = Sequential([\n",
    "        Input(shape=(input_shape,)),\n",
    "        Dense(128, activation='relu'),\n",
    "        BatchNormalization(),\n",
    "        Dropout(0.3),\n",
    "        Dense(64, activation='relu'),\n",
    "        BatchNormalization(),\n",
    "        Dropout(0.3),\n",
    "        Dense(32, activation='relu'),\n",
    "        BatchNormalization(),\n",
    "        Dropout(0.3),\n",
    "        Dense(16, activation='relu'),\n",
    "        BatchNormalization(),\n",
    "        Dense(1, activation='sigmoid')\n",
    "    ])\n",
    "\n",
    "    model.compile(optimizer=Adam(learning_rate=0.001),\n",
    "                  loss='binary_crossentropy',\n",
    "                  metrics=['accuracy'])\n",
    "\n",
    "    return model"
   ]
  },
  {
   "cell_type": "code",
   "execution_count": 46,
   "id": "8a9524d938184c76",
   "metadata": {
    "ExecuteTime": {
     "end_time": "2024-07-20T12:16:52.195494Z",
     "start_time": "2024-07-20T12:16:52.111104Z"
    }
   },
   "outputs": [
    {
     "data": {
      "text/plain": "\u001B[1mModel: \"sequential\"\u001B[0m\n",
      "text/html": "<pre style=\"white-space:pre;overflow-x:auto;line-height:normal;font-family:Menlo,'DejaVu Sans Mono',consolas,'Courier New',monospace\"><span style=\"font-weight: bold\">Model: \"sequential\"</span>\n</pre>\n"
     },
     "metadata": {},
     "output_type": "display_data"
    },
    {
     "data": {
      "text/plain": "┏━━━━━━━━━━━━━━━━━━━━━━━━━━━━━━━━━┳━━━━━━━━━━━━━━━━━━━━━━━━┳━━━━━━━━━━━━━━━┓\n┃\u001B[1m \u001B[0m\u001B[1mLayer (type)                   \u001B[0m\u001B[1m \u001B[0m┃\u001B[1m \u001B[0m\u001B[1mOutput Shape          \u001B[0m\u001B[1m \u001B[0m┃\u001B[1m \u001B[0m\u001B[1m      Param #\u001B[0m\u001B[1m \u001B[0m┃\n┡━━━━━━━━━━━━━━━━━━━━━━━━━━━━━━━━━╇━━━━━━━━━━━━━━━━━━━━━━━━╇━━━━━━━━━━━━━━━┩\n│ dense (\u001B[38;5;33mDense\u001B[0m)                   │ (\u001B[38;5;45mNone\u001B[0m, \u001B[38;5;34m128\u001B[0m)            │         \u001B[38;5;34m1,664\u001B[0m │\n├─────────────────────────────────┼────────────────────────┼───────────────┤\n│ batch_normalization             │ (\u001B[38;5;45mNone\u001B[0m, \u001B[38;5;34m128\u001B[0m)            │           \u001B[38;5;34m512\u001B[0m │\n│ (\u001B[38;5;33mBatchNormalization\u001B[0m)            │                        │               │\n├─────────────────────────────────┼────────────────────────┼───────────────┤\n│ dropout (\u001B[38;5;33mDropout\u001B[0m)               │ (\u001B[38;5;45mNone\u001B[0m, \u001B[38;5;34m128\u001B[0m)            │             \u001B[38;5;34m0\u001B[0m │\n├─────────────────────────────────┼────────────────────────┼───────────────┤\n│ dense_1 (\u001B[38;5;33mDense\u001B[0m)                 │ (\u001B[38;5;45mNone\u001B[0m, \u001B[38;5;34m64\u001B[0m)             │         \u001B[38;5;34m8,256\u001B[0m │\n├─────────────────────────────────┼────────────────────────┼───────────────┤\n│ batch_normalization_1           │ (\u001B[38;5;45mNone\u001B[0m, \u001B[38;5;34m64\u001B[0m)             │           \u001B[38;5;34m256\u001B[0m │\n│ (\u001B[38;5;33mBatchNormalization\u001B[0m)            │                        │               │\n├─────────────────────────────────┼────────────────────────┼───────────────┤\n│ dropout_1 (\u001B[38;5;33mDropout\u001B[0m)             │ (\u001B[38;5;45mNone\u001B[0m, \u001B[38;5;34m64\u001B[0m)             │             \u001B[38;5;34m0\u001B[0m │\n├─────────────────────────────────┼────────────────────────┼───────────────┤\n│ dense_2 (\u001B[38;5;33mDense\u001B[0m)                 │ (\u001B[38;5;45mNone\u001B[0m, \u001B[38;5;34m32\u001B[0m)             │         \u001B[38;5;34m2,080\u001B[0m │\n├─────────────────────────────────┼────────────────────────┼───────────────┤\n│ batch_normalization_2           │ (\u001B[38;5;45mNone\u001B[0m, \u001B[38;5;34m32\u001B[0m)             │           \u001B[38;5;34m128\u001B[0m │\n│ (\u001B[38;5;33mBatchNormalization\u001B[0m)            │                        │               │\n├─────────────────────────────────┼────────────────────────┼───────────────┤\n│ dropout_2 (\u001B[38;5;33mDropout\u001B[0m)             │ (\u001B[38;5;45mNone\u001B[0m, \u001B[38;5;34m32\u001B[0m)             │             \u001B[38;5;34m0\u001B[0m │\n├─────────────────────────────────┼────────────────────────┼───────────────┤\n│ dense_3 (\u001B[38;5;33mDense\u001B[0m)                 │ (\u001B[38;5;45mNone\u001B[0m, \u001B[38;5;34m16\u001B[0m)             │           \u001B[38;5;34m528\u001B[0m │\n├─────────────────────────────────┼────────────────────────┼───────────────┤\n│ batch_normalization_3           │ (\u001B[38;5;45mNone\u001B[0m, \u001B[38;5;34m16\u001B[0m)             │            \u001B[38;5;34m64\u001B[0m │\n│ (\u001B[38;5;33mBatchNormalization\u001B[0m)            │                        │               │\n├─────────────────────────────────┼────────────────────────┼───────────────┤\n│ dense_4 (\u001B[38;5;33mDense\u001B[0m)                 │ (\u001B[38;5;45mNone\u001B[0m, \u001B[38;5;34m1\u001B[0m)              │            \u001B[38;5;34m17\u001B[0m │\n└─────────────────────────────────┴────────────────────────┴───────────────┘\n",
      "text/html": "<pre style=\"white-space:pre;overflow-x:auto;line-height:normal;font-family:Menlo,'DejaVu Sans Mono',consolas,'Courier New',monospace\">┏━━━━━━━━━━━━━━━━━━━━━━━━━━━━━━━━━┳━━━━━━━━━━━━━━━━━━━━━━━━┳━━━━━━━━━━━━━━━┓\n┃<span style=\"font-weight: bold\"> Layer (type)                    </span>┃<span style=\"font-weight: bold\"> Output Shape           </span>┃<span style=\"font-weight: bold\">       Param # </span>┃\n┡━━━━━━━━━━━━━━━━━━━━━━━━━━━━━━━━━╇━━━━━━━━━━━━━━━━━━━━━━━━╇━━━━━━━━━━━━━━━┩\n│ dense (<span style=\"color: #0087ff; text-decoration-color: #0087ff\">Dense</span>)                   │ (<span style=\"color: #00d7ff; text-decoration-color: #00d7ff\">None</span>, <span style=\"color: #00af00; text-decoration-color: #00af00\">128</span>)            │         <span style=\"color: #00af00; text-decoration-color: #00af00\">1,664</span> │\n├─────────────────────────────────┼────────────────────────┼───────────────┤\n│ batch_normalization             │ (<span style=\"color: #00d7ff; text-decoration-color: #00d7ff\">None</span>, <span style=\"color: #00af00; text-decoration-color: #00af00\">128</span>)            │           <span style=\"color: #00af00; text-decoration-color: #00af00\">512</span> │\n│ (<span style=\"color: #0087ff; text-decoration-color: #0087ff\">BatchNormalization</span>)            │                        │               │\n├─────────────────────────────────┼────────────────────────┼───────────────┤\n│ dropout (<span style=\"color: #0087ff; text-decoration-color: #0087ff\">Dropout</span>)               │ (<span style=\"color: #00d7ff; text-decoration-color: #00d7ff\">None</span>, <span style=\"color: #00af00; text-decoration-color: #00af00\">128</span>)            │             <span style=\"color: #00af00; text-decoration-color: #00af00\">0</span> │\n├─────────────────────────────────┼────────────────────────┼───────────────┤\n│ dense_1 (<span style=\"color: #0087ff; text-decoration-color: #0087ff\">Dense</span>)                 │ (<span style=\"color: #00d7ff; text-decoration-color: #00d7ff\">None</span>, <span style=\"color: #00af00; text-decoration-color: #00af00\">64</span>)             │         <span style=\"color: #00af00; text-decoration-color: #00af00\">8,256</span> │\n├─────────────────────────────────┼────────────────────────┼───────────────┤\n│ batch_normalization_1           │ (<span style=\"color: #00d7ff; text-decoration-color: #00d7ff\">None</span>, <span style=\"color: #00af00; text-decoration-color: #00af00\">64</span>)             │           <span style=\"color: #00af00; text-decoration-color: #00af00\">256</span> │\n│ (<span style=\"color: #0087ff; text-decoration-color: #0087ff\">BatchNormalization</span>)            │                        │               │\n├─────────────────────────────────┼────────────────────────┼───────────────┤\n│ dropout_1 (<span style=\"color: #0087ff; text-decoration-color: #0087ff\">Dropout</span>)             │ (<span style=\"color: #00d7ff; text-decoration-color: #00d7ff\">None</span>, <span style=\"color: #00af00; text-decoration-color: #00af00\">64</span>)             │             <span style=\"color: #00af00; text-decoration-color: #00af00\">0</span> │\n├─────────────────────────────────┼────────────────────────┼───────────────┤\n│ dense_2 (<span style=\"color: #0087ff; text-decoration-color: #0087ff\">Dense</span>)                 │ (<span style=\"color: #00d7ff; text-decoration-color: #00d7ff\">None</span>, <span style=\"color: #00af00; text-decoration-color: #00af00\">32</span>)             │         <span style=\"color: #00af00; text-decoration-color: #00af00\">2,080</span> │\n├─────────────────────────────────┼────────────────────────┼───────────────┤\n│ batch_normalization_2           │ (<span style=\"color: #00d7ff; text-decoration-color: #00d7ff\">None</span>, <span style=\"color: #00af00; text-decoration-color: #00af00\">32</span>)             │           <span style=\"color: #00af00; text-decoration-color: #00af00\">128</span> │\n│ (<span style=\"color: #0087ff; text-decoration-color: #0087ff\">BatchNormalization</span>)            │                        │               │\n├─────────────────────────────────┼────────────────────────┼───────────────┤\n│ dropout_2 (<span style=\"color: #0087ff; text-decoration-color: #0087ff\">Dropout</span>)             │ (<span style=\"color: #00d7ff; text-decoration-color: #00d7ff\">None</span>, <span style=\"color: #00af00; text-decoration-color: #00af00\">32</span>)             │             <span style=\"color: #00af00; text-decoration-color: #00af00\">0</span> │\n├─────────────────────────────────┼────────────────────────┼───────────────┤\n│ dense_3 (<span style=\"color: #0087ff; text-decoration-color: #0087ff\">Dense</span>)                 │ (<span style=\"color: #00d7ff; text-decoration-color: #00d7ff\">None</span>, <span style=\"color: #00af00; text-decoration-color: #00af00\">16</span>)             │           <span style=\"color: #00af00; text-decoration-color: #00af00\">528</span> │\n├─────────────────────────────────┼────────────────────────┼───────────────┤\n│ batch_normalization_3           │ (<span style=\"color: #00d7ff; text-decoration-color: #00d7ff\">None</span>, <span style=\"color: #00af00; text-decoration-color: #00af00\">16</span>)             │            <span style=\"color: #00af00; text-decoration-color: #00af00\">64</span> │\n│ (<span style=\"color: #0087ff; text-decoration-color: #0087ff\">BatchNormalization</span>)            │                        │               │\n├─────────────────────────────────┼────────────────────────┼───────────────┤\n│ dense_4 (<span style=\"color: #0087ff; text-decoration-color: #0087ff\">Dense</span>)                 │ (<span style=\"color: #00d7ff; text-decoration-color: #00d7ff\">None</span>, <span style=\"color: #00af00; text-decoration-color: #00af00\">1</span>)              │            <span style=\"color: #00af00; text-decoration-color: #00af00\">17</span> │\n└─────────────────────────────────┴────────────────────────┴───────────────┘\n</pre>\n"
     },
     "metadata": {},
     "output_type": "display_data"
    },
    {
     "data": {
      "text/plain": "\u001B[1m Total params: \u001B[0m\u001B[38;5;34m13,505\u001B[0m (52.75 KB)\n",
      "text/html": "<pre style=\"white-space:pre;overflow-x:auto;line-height:normal;font-family:Menlo,'DejaVu Sans Mono',consolas,'Courier New',monospace\"><span style=\"font-weight: bold\"> Total params: </span><span style=\"color: #00af00; text-decoration-color: #00af00\">13,505</span> (52.75 KB)\n</pre>\n"
     },
     "metadata": {},
     "output_type": "display_data"
    },
    {
     "data": {
      "text/plain": "\u001B[1m Trainable params: \u001B[0m\u001B[38;5;34m13,025\u001B[0m (50.88 KB)\n",
      "text/html": "<pre style=\"white-space:pre;overflow-x:auto;line-height:normal;font-family:Menlo,'DejaVu Sans Mono',consolas,'Courier New',monospace\"><span style=\"font-weight: bold\"> Trainable params: </span><span style=\"color: #00af00; text-decoration-color: #00af00\">13,025</span> (50.88 KB)\n</pre>\n"
     },
     "metadata": {},
     "output_type": "display_data"
    },
    {
     "data": {
      "text/plain": "\u001B[1m Non-trainable params: \u001B[0m\u001B[38;5;34m480\u001B[0m (1.88 KB)\n",
      "text/html": "<pre style=\"white-space:pre;overflow-x:auto;line-height:normal;font-family:Menlo,'DejaVu Sans Mono',consolas,'Courier New',monospace\"><span style=\"font-weight: bold\"> Non-trainable params: </span><span style=\"color: #00af00; text-decoration-color: #00af00\">480</span> (1.88 KB)\n</pre>\n"
     },
     "metadata": {},
     "output_type": "display_data"
    }
   ],
   "source": [
    "# Calculate class weights\n",
    "class_weights = compute_class_weight('balanced', classes=np.unique(y_train), y=y_train)\n",
    "class_weights = dict(enumerate(class_weights))\n",
    "\n",
    "model = create_model(X_train_scaled.shape[1])\n",
    "model.summary()\n",
    "\n"
   ]
  },
  {
   "cell_type": "code",
   "execution_count": 47,
   "id": "1a068e5c91b54934",
   "metadata": {
    "ExecuteTime": {
     "end_time": "2024-07-20T12:17:02.901084Z",
     "start_time": "2024-07-20T12:17:02.888895Z"
    }
   },
   "outputs": [],
   "source": [
    "import numpy as np\n",
    "from sklearn.model_selection import StratifiedKFold\n",
    "from tensorflow.keras.callbacks import EarlyStopping, ReduceLROnPlateau\n",
    "\n",
    "def train_model(X, y, model, n_splits=5, epochs=50, batch_size=32, class_weight=None):\n",
    "    skf = StratifiedKFold(n_splits=n_splits)\n",
    "    \n",
    "    X = np.array(X)\n",
    "    y = np.array(y)\n",
    "    \n",
    "    histories = []\n",
    "    \n",
    "    for fold, (train_idx, val_idx) in enumerate(skf.split(X, y)):\n",
    "        print(f'Training on fold {fold + 1}/{n_splits}')\n",
    "        \n",
    "        X_train, X_val = X[train_idx], X[val_idx]\n",
    "        y_train, y_val = y[train_idx], y[val_idx]\n",
    "        \n",
    "        callbacks = [\n",
    "            EarlyStopping(patience=10, restore_best_weights=True),\n",
    "            ReduceLROnPlateau(factor=0.5, patience=5, min_lr=0.00001)\n",
    "        ]\n",
    "        \n",
    "        history = model.fit(\n",
    "            X_train, y_train,\n",
    "            validation_data=(X_val, y_val),\n",
    "            epochs=epochs,\n",
    "            batch_size=batch_size,\n",
    "            class_weight=class_weight,\n",
    "            callbacks=callbacks,\n",
    "            verbose=0\n",
    "        )\n",
    "        \n",
    "        histories.append(history)\n",
    "    \n",
    "    return histories\n"
   ]
  },
  {
   "cell_type": "code",
   "execution_count": 48,
   "id": "efb7f646df103754",
   "metadata": {
    "ExecuteTime": {
     "end_time": "2024-07-20T12:19:09.300974Z",
     "start_time": "2024-07-20T12:17:04.680789Z"
    }
   },
   "outputs": [
    {
     "name": "stdout",
     "output_type": "stream",
     "text": [
      "Training on fold 1/5\n",
      "Training on fold 2/5\n",
      "Training on fold 3/5\n",
      "Training on fold 4/5\n",
      "Training on fold 5/5\n"
     ]
    }
   ],
   "source": [
    "histories = train_model(X_train_scaled, y_train, model, class_weight=class_weights)\n"
   ]
  },
  {
   "cell_type": "code",
   "execution_count": 49,
   "id": "a424da9da2c87d6f",
   "metadata": {
    "ExecuteTime": {
     "end_time": "2024-07-20T12:19:21.791273Z",
     "start_time": "2024-07-20T12:19:21.737211Z"
    }
   },
   "outputs": [],
   "source": [
    "\n",
    "model.save('fraud_detection_model1.keras')\n"
   ]
  },
  {
   "cell_type": "code",
   "execution_count": 50,
   "id": "b789caa134f7f860",
   "metadata": {
    "ExecuteTime": {
     "end_time": "2024-07-20T12:25:43.266046Z",
     "start_time": "2024-07-20T12:25:42.990164Z"
    }
   },
   "outputs": [],
   "source": [
    "# Load the model\n",
    "model = load_model('fraud_detection_model1.keras')\n",
    "scaler = joblib.load('scaler1.pkl')\n"
   ]
  },
  {
   "cell_type": "code",
   "execution_count": 53,
   "id": "be1407958adeb9e7",
   "metadata": {
    "ExecuteTime": {
     "end_time": "2024-07-20T12:25:46.249972Z",
     "start_time": "2024-07-20T12:25:46.037928Z"
    }
   },
   "outputs": [
    {
     "name": "stdout",
     "output_type": "stream",
     "text": [
      "\u001B[1m1/1\u001B[0m \u001B[32m━━━━━━━━━━━━━━━━━━━━\u001B[0m\u001B[37m\u001B[0m \u001B[1m0s\u001B[0m 11ms/step\n",
      "1.0\n"
     ]
    }
   ],
   "source": [
    "# Make prediction\n",
    "prediction = model.predict(preprocessed_transaction)\n",
    "fraud_score = prediction[0][0]\n",
    "print(fraud_score)"
   ]
  },
  {
   "cell_type": "code",
   "execution_count": 54,
   "id": "ba0d2831fa34cfc9",
   "metadata": {
    "ExecuteTime": {
     "end_time": "2024-07-20T12:25:48.785101Z",
     "start_time": "2024-07-20T12:25:48.771670Z"
    }
   },
   "outputs": [],
   "source": [
    "def generate_transaction_score(transaction_scaled):\n",
    "    # Ensure transaction_scaled is in the correct shape for prediction\n",
    "    transaction_scaled = np.array(transaction_scaled).reshape(1, -1)  # Ensure it’s a 2D array\n",
    "    transaction_score = model.predict(transaction_scaled)[0][0]\n",
    "    return transaction_score\n",
    "\n",
    "\n",
    "def detect_fraud(transaction_score, threshold=0.3):\n",
    "    return transaction_score >= threshold\n"
   ]
  },
  {
   "cell_type": "code",
   "execution_count": 58,
   "id": "aaa8783956d0c6ab",
   "metadata": {
    "ExecuteTime": {
     "end_time": "2024-07-20T12:25:58.207224Z",
     "start_time": "2024-07-20T12:25:51.106577Z"
    }
   },
   "outputs": [
    {
     "name": "stdout",
     "output_type": "stream",
     "text": [
      "\u001B[1m1/1\u001B[0m \u001B[32m━━━━━━━━━━━━━━━━━━━━\u001B[0m\u001B[37m\u001B[0m \u001B[1m0s\u001B[0m 8ms/step\n",
      "Transaction Score: 1.0\n",
      "Fraud Detected: True\n"
     ]
    },
    {
     "name": "stderr",
     "output_type": "stream",
     "text": [
      "/Users/shivanshmahajan/Desktop/Innovate/venv/lib/python3.9/site-packages/sklearn/base.py:493: UserWarning: X does not have valid feature names, but StandardScaler was fitted with feature names\n",
      "  warnings.warn(\n"
     ]
    }
   ],
   "source": [
    "def main():\n",
    "    user_input = get_user_input()\n",
    "    enriched_transaction = enrich_transaction_data(user_input)\n",
    "    preprocessed_transaction = preprocess_transaction(enriched_transaction, scaler)\n",
    "\n",
    "    if preprocessed_transaction is not None:\n",
    "        transaction_score = generate_transaction_score(preprocessed_transaction)\n",
    "        is_fraud = detect_fraud(transaction_score)\n",
    "\n",
    "        print(\"Transaction Score:\", transaction_score)\n",
    "        print(\"Fraud Detected:\", is_fraud)\n",
    "    else:\n",
    "        print(\"Error: Preprocessed transaction is None. Check feature consistency.\")\n",
    "\n",
    "if __name__ == \"__main__\":\n",
    "    main()\n"
   ]
  },
  {
   "cell_type": "code",
   "execution_count": null,
   "id": "564e6e20c886c57f",
   "metadata": {},
   "outputs": [],
   "source": []
  }
 ],
 "metadata": {
  "kernelspec": {
   "display_name": "Python 3",
   "language": "python",
   "name": "python3"
  },
  "language_info": {
   "codemirror_mode": {
    "name": "ipython",
    "version": 3
   },
   "file_extension": ".py",
   "mimetype": "text/x-python",
   "name": "python",
   "nbconvert_exporter": "python",
   "pygments_lexer": "ipython3",
   "version": "3.9.13"
  }
 },
 "nbformat": 4,
 "nbformat_minor": 5
}

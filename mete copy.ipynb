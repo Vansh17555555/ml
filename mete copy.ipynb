{
 "cells": [
  {
   "cell_type": "code",
   "execution_count": 25,
   "id": "8e248dd34c8a2e80",
   "metadata": {
    "ExecuteTime": {
     "end_time": "2024-07-20T12:15:24.195031Z",
     "start_time": "2024-07-20T12:15:24.186623Z"
    }
   },
   "outputs": [],
   "source": [
    "import numpy as np\n",
    "import pandas as pd\n",
    "from sklearn.preprocessing import LabelEncoder, StandardScaler\n",
    "from sklearn.model_selection import train_test_split\n",
    "from tensorflow.keras.models import Sequential, load_model\n",
    "from tensorflow.keras.layers import Dense, Dropout, BatchNormalization\n",
    "from tensorflow.keras.optimizers import Adam\n",
    "from sklearn.model_selection import KFold\n",
    "from tensorflow.keras.callbacks import EarlyStopping, ReduceLROnPlateau\n",
    "from sklearn.utils.class_weight import compute_class_weight\n",
    "from imblearn.over_sampling import SMOTE\n",
    "import joblib\n",
    "import random"
   ]
  },
  {
   "cell_type": "code",
   "execution_count": 26,
   "id": "4a8919c80de5beee",
   "metadata": {
    "ExecuteTime": {
     "end_time": "2024-07-20T12:15:33.822668Z",
     "start_time": "2024-07-20T12:15:26.198915Z"
    }
   },
   "outputs": [],
   "source": [
    "# Simulate loading data\n",
    "data = pd.DataFrame({\n",
    "    'amount': np.random.uniform(10, 1000, 1000),\n",
    "    'oldbalanceOrg': np.random.uniform(0, 1000, 1000),\n",
    "    'newbalanceOrig': np.random.uniform(0, 1000, 1000),\n",
    "    'oldbalanceDest': np.random.uniform(0, 1000, 1000),\n",
    "    'newbalanceDest': np.random.uniform(0, 1000, 1000),\n",
    "    'transaction_frequency': np.random.randint(1, 100, 1000),\n",
    "    'transaction_recency': np.random.randint(1, 30, 1000),\n",
    "    'device_location': np.random.choice([0, 1], 1000),\n",
    "    'distance': np.random.uniform(0, 1000, 1000),\n",
    "    'credit_score': np.random.randint(300, 850, 1000),\n",
    "    'unusual_activity_flag': np.random.choice([0, 1], 1000),\n",
    "    'isFraud': np.random.choice([0, 1], 1000, p=[0.95, 0.05])\n",
    "})\n"
   ]
  },
  {
   "cell_type": "code",
   "execution_count": 27,
   "id": "acac0dca6f02d582",
   "metadata": {
    "ExecuteTime": {
     "end_time": "2024-07-20T12:15:44.029513Z",
     "start_time": "2024-07-20T12:15:44.017076Z"
    }
   },
   "outputs": [],
   "source": [
    "# Encoding categorical variables (example for 'device_location')\n",
    "label_encoder = LabelEncoder()\n",
    "data['device_location'] = label_encoder.fit_transform(data['device_location'])\n",
    "\n",
    "essential_features = [\n",
    "    'amount',\n",
    "    'oldbalanceOrg',\n",
    "    'newbalanceOrig',\n",
    "    'oldbalanceDest',\n",
    "    'newbalanceDest',\n",
    "    'transaction_frequency',\n",
    "    'transaction_recency',\n",
    "    'device_location',\n",
    "    'distance',\n",
    "    'credit_score',\n",
    "    'unusual_activity_flag'\n",
    "]\n"
   ]
  },
  {
   "cell_type": "code",
   "execution_count": 28,
   "id": "af8e897d57bacd81",
   "metadata": {
    "ExecuteTime": {
     "end_time": "2024-07-20T12:15:47.440582Z",
     "start_time": "2024-07-20T12:15:47.429763Z"
    }
   },
   "outputs": [],
   "source": [
    "columns_to_keep = essential_features + ['isFraud']\n",
    "\n",
    "# Ensure all specified columns are in the dataset\n",
    "for column in columns_to_keep:\n",
    "    if column not in data.columns:\n",
    "        raise ValueError(f\"Column '{column}' is missing from the dataset.\")\n",
    "\n",
    "# Drop all columns except the essential features\n",
    "data_filtered = data[columns_to_keep]\n",
    "\n",
    "# Define feature columns and target column\n",
    "feature_columns = essential_features\n",
    "target_column = 'isFraud'\n",
    "\n",
    "# Split the data into features (X) and target (y)\n",
    "X = data_filtered[feature_columns]\n",
    "y = data_filtered[target_column]\n"
   ]
  },
  {
   "cell_type": "code",
   "execution_count": 29,
   "id": "a8dc82149c98d7f3",
   "metadata": {
    "ExecuteTime": {
     "end_time": "2024-07-20T12:15:49.907774Z",
     "start_time": "2024-07-20T12:15:49.883209Z"
    }
   },
   "outputs": [
    {
     "name": "stdout",
     "output_type": "stream",
     "text": [
      "       amount  oldbalanceOrg  newbalanceOrig  oldbalanceDest  newbalanceDest  \\\n",
      "0  659.759388     839.075206      939.000706      211.039441      438.218417   \n",
      "1  117.777082     271.390475      362.751425      250.265118      500.753752   \n",
      "2  758.213975     875.702742      588.868842      501.493482      340.742724   \n",
      "3  120.437640     690.163866       89.979182      505.309068      682.940119   \n",
      "4  431.644272     403.180343      636.012201      592.057067      390.553180   \n",
      "\n",
      "   transaction_frequency  transaction_recency  device_location    distance  \\\n",
      "0                     38                   25                1  484.788222   \n",
      "1                     48                    2                1  591.172569   \n",
      "2                     43                    2                1  727.662731   \n",
      "3                     98                    7                0   85.538972   \n",
      "4                      7                   15                0  594.858128   \n",
      "\n",
      "   credit_score  unusual_activity_flag  \n",
      "0           435                      1  \n",
      "1           799                      0  \n",
      "2           427                      1  \n",
      "3           379                      0  \n",
      "4           776                      1  \n",
      "   isFraud\n",
      "0        0\n",
      "1        0\n",
      "2        0\n",
      "3        0\n",
      "4        0\n",
      "isFraud\n",
      "0    943\n",
      "1    943\n",
      "Name: count, dtype: int64\n"
     ]
    }
   ],
   "source": [
    "smote = SMOTE(random_state=42)\n",
    "X_resampled, y_resampled = smote.fit_resample(X, y)\n",
    "\n",
    "# Display the resampled data\n",
    "print(pd.DataFrame(X_resampled, columns=feature_columns).head())\n",
    "print(pd.DataFrame(y_resampled, columns=[target_column]).head())\n",
    "\n",
    "# Display the resampled class distribution\n",
    "print(pd.Series(y_resampled).value_counts())\n",
    "\n"
   ]
  },
  {
   "cell_type": "code",
   "execution_count": 30,
   "id": "e9ad69d850ff645a",
   "metadata": {
    "ExecuteTime": {
     "end_time": "2024-07-20T12:15:54.394573Z",
     "start_time": "2024-07-20T12:15:54.376088Z"
    }
   },
   "outputs": [],
   "source": [
    "X_train, X_test, y_train, y_test = train_test_split(X_resampled, y_resampled, test_size=0.2, random_state=3)\n",
    "\n",
    "# Scale the features\n",
    "scaler = StandardScaler()\n",
    "X_train_scaled = scaler.fit_transform(X_train)\n",
    "X_test_scaled = scaler.transform(X_test)\n",
    "\n"
   ]
  },
  {
   "cell_type": "code",
   "execution_count": 31,
   "id": "359b19f79614d1f0",
   "metadata": {
    "ExecuteTime": {
     "end_time": "2024-07-20T12:32:35.692555Z",
     "start_time": "2024-07-20T12:32:35.682552Z"
    }
   },
   "outputs": [],
   "source": [
    "# print the values of the target column which have one of the values of the target column"
   ]
  },
  {
   "cell_type": "code",
   "execution_count": null,
   "id": "5572ae66f6f92250",
   "metadata": {},
   "outputs": [],
   "source": []
  },
  {
   "cell_type": "code",
   "execution_count": 32,
   "id": "13b5937a49c7c85a",
   "metadata": {
    "ExecuteTime": {
     "end_time": "2024-07-20T12:15:58.948158Z",
     "start_time": "2024-07-20T12:15:58.935890Z"
    }
   },
   "outputs": [],
   "source": [
    "\n",
    "\n",
    "def get_user_input():\n",
    "    return {\n",
    "        'amount': float(input(\"Enter transaction amount: \")),\n",
    "        'balance': float(input(\"Enter current balance: \")),\n",
    "        'credit_score': float(input(\"Enter credit score (300-850): \"))\n",
    "    }\n",
    "\n",
    "def enrich_transaction_data(user_input):\n",
    "    # Simulate additional data that would be collected automatically\n",
    "    transaction = user_input.copy()\n",
    "    transaction['oldbalanceOrg'] = transaction['balance']\n",
    "    transaction['newbalanceOrig'] = transaction['balance'] - transaction['amount']\n",
    "    transaction['oldbalanceDest'] = random.uniform(0, 10000)  # Simulated receiver's old balance\n",
    "    transaction['newbalanceDest'] = transaction['oldbalanceDest'] + transaction['amount']\n",
    "    transaction['transaction_frequency'] = random.randint(1, 100)  # Simulated frequency\n",
    "    transaction['transaction_recency'] = random.randint(1, 30)  # Days since last transaction\n",
    "    transaction['device_location'] = random.choice([0, 1])  # 0: usual location, 1: unusual\n",
    "    transaction['distance'] = random.uniform(0, 1000)  # Simulated distance\n",
    "    transaction['unusual_activity_flag'] = 1 if random.random() < 0.1 else 0  # 10% chance of unusual activity\n",
    "\n",
    "    return transaction\n",
    "\n",
    "def preprocess_transaction(transaction, scaler):\n",
    "    features = ['amount', 'oldbalanceOrg', 'newbalanceOrig', 'oldbalanceDest', 'newbalanceDest',\n",
    "                'transaction_frequency', 'transaction_recency', 'device_location', 'distance',\n",
    "                'credit_score', 'unusual_activity_flag']\n",
    "\n",
    "    # Ensure transaction dictionary has all required features\n",
    "    assert all(feature in transaction for feature in features), \"Missing features in the transaction data\"\n",
    "\n",
    "    transaction_values = np.array([transaction[feature] for feature in features]).reshape(1, -1)\n",
    "    transaction_scaled = scaler.transform(transaction_values)\n",
    "    return transaction_scaled\n",
    "\n",
    "\n"
   ]
  },
  {
   "cell_type": "code",
   "execution_count": 33,
   "id": "b91a1b690896c0a9",
   "metadata": {
    "ExecuteTime": {
     "end_time": "2024-07-20T12:16:02.289035Z",
     "start_time": "2024-07-20T12:16:02.279025Z"
    }
   },
   "outputs": [
    {
     "name": "stdout",
     "output_type": "stream",
     "text": [
      "isFraud\n",
      "0    943\n",
      "1     57\n",
      "Name: count, dtype: int64\n"
     ]
    }
   ],
   "source": [
    "print(data['isFraud'].value_counts())"
   ]
  },
  {
   "cell_type": "code",
   "execution_count": 34,
   "id": "1bf8fc3a18c75a10",
   "metadata": {
    "ExecuteTime": {
     "end_time": "2024-07-20T12:16:14.180415Z",
     "start_time": "2024-07-20T12:16:06.623025Z"
    }
   },
   "outputs": [
    {
     "name": "stderr",
     "output_type": "stream",
     "text": [
      "/Users/shivanshmahajan/Desktop/Innovate/venv/lib/python3.9/site-packages/sklearn/base.py:493: UserWarning: X does not have valid feature names, but StandardScaler was fitted with feature names\n",
      "  warnings.warn(\n"
     ]
    }
   ],
   "source": [
    "from tensorflow.keras.models import Sequential\n",
    "from tensorflow.keras.layers import Dense, BatchNormalization, Dropout\n",
    "from tensorflow.keras.optimizers import Adam\n",
    "from tensorflow.keras import Input\n",
    "\n",
    "\n",
    "user_input = get_user_input()\n",
    "enriched_transaction = enrich_transaction_data(user_input)\n",
    "preprocessed_transaction = preprocess_transaction(enriched_transaction, scaler)\n",
    "\n",
    "joblib.dump(scaler, 'scaler.pkl')\n",
    "\n",
    "def create_model(input_shape):\n",
    "    model = Sequential([\n",
    "        Dense(64, activation='relu', input_shape=(input_shape,)),\n",
    "        BatchNormalization(),\n",
    "        Dropout(0.3),\n",
    "        Dense(32, activation='relu'),\n",
    "        BatchNormalization(),\n",
    "        Dropout(0.3),\n",
    "        Dense(16, activation='relu'),\n",
    "        BatchNormalization(),\n",
    "        Dropout(0.3),\n",
    "        Dense(1, activation='sigmoid')\n",
    "    ])\n",
    "\n",
    "    model.compile(optimizer=Adam(learning_rate=0.001),\n",
    "                  loss='binary_crossentropy',\n",
    "                  metrics=['accuracy'])\n",
    "\n",
    "    return model\n",
    "\n"
   ]
  },
  {
   "cell_type": "code",
   "execution_count": 35,
   "id": "15a769f8b946f201",
   "metadata": {
    "ExecuteTime": {
     "end_time": "2024-07-20T12:19:09.308523Z",
     "start_time": "2024-07-20T12:19:09.301494Z"
    }
   },
   "outputs": [],
   "source": [
    "# Save the scaler\n",
    "\n"
   ]
  },
  {
   "cell_type": "code",
   "execution_count": null,
   "id": "449a00632d830c9c",
   "metadata": {
    "ExecuteTime": {
     "end_time": "2024-07-20T12:16:37.377605Z",
     "start_time": "2024-07-20T12:16:37.367363Z"
    }
   },
   "outputs": [],
   "source": [
    "\n"
   ]
  },
  {
   "cell_type": "code",
   "execution_count": 36,
   "id": "8a9524d938184c76",
   "metadata": {
    "ExecuteTime": {
     "end_time": "2024-07-20T12:16:52.195494Z",
     "start_time": "2024-07-20T12:16:52.111104Z"
    }
   },
   "outputs": [
    {
     "name": "stderr",
     "output_type": "stream",
     "text": [
      "/Users/shivanshmahajan/Desktop/Innovate/venv/lib/python3.9/site-packages/keras/src/layers/core/dense.py:87: UserWarning: Do not pass an `input_shape`/`input_dim` argument to a layer. When using Sequential models, prefer using an `Input(shape)` object as the first layer in the model instead.\n",
      "  super().__init__(activity_regularizer=activity_regularizer, **kwargs)\n"
     ]
    },
    {
     "data": {
      "text/html": [
       "<pre style=\"white-space:pre;overflow-x:auto;line-height:normal;font-family:Menlo,'DejaVu Sans Mono',consolas,'Courier New',monospace\"><span style=\"font-weight: bold\">Model: \"sequential_1\"</span>\n",
       "</pre>\n"
      ],
      "text/plain": [
       "\u001b[1mModel: \"sequential_1\"\u001b[0m\n"
      ]
     },
     "metadata": {},
     "output_type": "display_data"
    },
    {
     "data": {
      "text/html": [
       "<pre style=\"white-space:pre;overflow-x:auto;line-height:normal;font-family:Menlo,'DejaVu Sans Mono',consolas,'Courier New',monospace\">┏━━━━━━━━━━━━━━━━━━━━━━━━━━━━━━━━━┳━━━━━━━━━━━━━━━━━━━━━━━━┳━━━━━━━━━━━━━━━┓\n",
       "┃<span style=\"font-weight: bold\"> Layer (type)                    </span>┃<span style=\"font-weight: bold\"> Output Shape           </span>┃<span style=\"font-weight: bold\">       Param # </span>┃\n",
       "┡━━━━━━━━━━━━━━━━━━━━━━━━━━━━━━━━━╇━━━━━━━━━━━━━━━━━━━━━━━━╇━━━━━━━━━━━━━━━┩\n",
       "│ dense_4 (<span style=\"color: #0087ff; text-decoration-color: #0087ff\">Dense</span>)                 │ (<span style=\"color: #00d7ff; text-decoration-color: #00d7ff\">None</span>, <span style=\"color: #00af00; text-decoration-color: #00af00\">64</span>)             │           <span style=\"color: #00af00; text-decoration-color: #00af00\">768</span> │\n",
       "├─────────────────────────────────┼────────────────────────┼───────────────┤\n",
       "│ batch_normalization_3           │ (<span style=\"color: #00d7ff; text-decoration-color: #00d7ff\">None</span>, <span style=\"color: #00af00; text-decoration-color: #00af00\">64</span>)             │           <span style=\"color: #00af00; text-decoration-color: #00af00\">256</span> │\n",
       "│ (<span style=\"color: #0087ff; text-decoration-color: #0087ff\">BatchNormalization</span>)            │                        │               │\n",
       "├─────────────────────────────────┼────────────────────────┼───────────────┤\n",
       "│ dropout_3 (<span style=\"color: #0087ff; text-decoration-color: #0087ff\">Dropout</span>)             │ (<span style=\"color: #00d7ff; text-decoration-color: #00d7ff\">None</span>, <span style=\"color: #00af00; text-decoration-color: #00af00\">64</span>)             │             <span style=\"color: #00af00; text-decoration-color: #00af00\">0</span> │\n",
       "├─────────────────────────────────┼────────────────────────┼───────────────┤\n",
       "│ dense_5 (<span style=\"color: #0087ff; text-decoration-color: #0087ff\">Dense</span>)                 │ (<span style=\"color: #00d7ff; text-decoration-color: #00d7ff\">None</span>, <span style=\"color: #00af00; text-decoration-color: #00af00\">32</span>)             │         <span style=\"color: #00af00; text-decoration-color: #00af00\">2,080</span> │\n",
       "├─────────────────────────────────┼────────────────────────┼───────────────┤\n",
       "│ batch_normalization_4           │ (<span style=\"color: #00d7ff; text-decoration-color: #00d7ff\">None</span>, <span style=\"color: #00af00; text-decoration-color: #00af00\">32</span>)             │           <span style=\"color: #00af00; text-decoration-color: #00af00\">128</span> │\n",
       "│ (<span style=\"color: #0087ff; text-decoration-color: #0087ff\">BatchNormalization</span>)            │                        │               │\n",
       "├─────────────────────────────────┼────────────────────────┼───────────────┤\n",
       "│ dropout_4 (<span style=\"color: #0087ff; text-decoration-color: #0087ff\">Dropout</span>)             │ (<span style=\"color: #00d7ff; text-decoration-color: #00d7ff\">None</span>, <span style=\"color: #00af00; text-decoration-color: #00af00\">32</span>)             │             <span style=\"color: #00af00; text-decoration-color: #00af00\">0</span> │\n",
       "├─────────────────────────────────┼────────────────────────┼───────────────┤\n",
       "│ dense_6 (<span style=\"color: #0087ff; text-decoration-color: #0087ff\">Dense</span>)                 │ (<span style=\"color: #00d7ff; text-decoration-color: #00d7ff\">None</span>, <span style=\"color: #00af00; text-decoration-color: #00af00\">16</span>)             │           <span style=\"color: #00af00; text-decoration-color: #00af00\">528</span> │\n",
       "├─────────────────────────────────┼────────────────────────┼───────────────┤\n",
       "│ batch_normalization_5           │ (<span style=\"color: #00d7ff; text-decoration-color: #00d7ff\">None</span>, <span style=\"color: #00af00; text-decoration-color: #00af00\">16</span>)             │            <span style=\"color: #00af00; text-decoration-color: #00af00\">64</span> │\n",
       "│ (<span style=\"color: #0087ff; text-decoration-color: #0087ff\">BatchNormalization</span>)            │                        │               │\n",
       "├─────────────────────────────────┼────────────────────────┼───────────────┤\n",
       "│ dropout_5 (<span style=\"color: #0087ff; text-decoration-color: #0087ff\">Dropout</span>)             │ (<span style=\"color: #00d7ff; text-decoration-color: #00d7ff\">None</span>, <span style=\"color: #00af00; text-decoration-color: #00af00\">16</span>)             │             <span style=\"color: #00af00; text-decoration-color: #00af00\">0</span> │\n",
       "├─────────────────────────────────┼────────────────────────┼───────────────┤\n",
       "│ dense_7 (<span style=\"color: #0087ff; text-decoration-color: #0087ff\">Dense</span>)                 │ (<span style=\"color: #00d7ff; text-decoration-color: #00d7ff\">None</span>, <span style=\"color: #00af00; text-decoration-color: #00af00\">1</span>)              │            <span style=\"color: #00af00; text-decoration-color: #00af00\">17</span> │\n",
       "└─────────────────────────────────┴────────────────────────┴───────────────┘\n",
       "</pre>\n"
      ],
      "text/plain": [
       "┏━━━━━━━━━━━━━━━━━━━━━━━━━━━━━━━━━┳━━━━━━━━━━━━━━━━━━━━━━━━┳━━━━━━━━━━━━━━━┓\n",
       "┃\u001b[1m \u001b[0m\u001b[1mLayer (type)                   \u001b[0m\u001b[1m \u001b[0m┃\u001b[1m \u001b[0m\u001b[1mOutput Shape          \u001b[0m\u001b[1m \u001b[0m┃\u001b[1m \u001b[0m\u001b[1m      Param #\u001b[0m\u001b[1m \u001b[0m┃\n",
       "┡━━━━━━━━━━━━━━━━━━━━━━━━━━━━━━━━━╇━━━━━━━━━━━━━━━━━━━━━━━━╇━━━━━━━━━━━━━━━┩\n",
       "│ dense_4 (\u001b[38;5;33mDense\u001b[0m)                 │ (\u001b[38;5;45mNone\u001b[0m, \u001b[38;5;34m64\u001b[0m)             │           \u001b[38;5;34m768\u001b[0m │\n",
       "├─────────────────────────────────┼────────────────────────┼───────────────┤\n",
       "│ batch_normalization_3           │ (\u001b[38;5;45mNone\u001b[0m, \u001b[38;5;34m64\u001b[0m)             │           \u001b[38;5;34m256\u001b[0m │\n",
       "│ (\u001b[38;5;33mBatchNormalization\u001b[0m)            │                        │               │\n",
       "├─────────────────────────────────┼────────────────────────┼───────────────┤\n",
       "│ dropout_3 (\u001b[38;5;33mDropout\u001b[0m)             │ (\u001b[38;5;45mNone\u001b[0m, \u001b[38;5;34m64\u001b[0m)             │             \u001b[38;5;34m0\u001b[0m │\n",
       "├─────────────────────────────────┼────────────────────────┼───────────────┤\n",
       "│ dense_5 (\u001b[38;5;33mDense\u001b[0m)                 │ (\u001b[38;5;45mNone\u001b[0m, \u001b[38;5;34m32\u001b[0m)             │         \u001b[38;5;34m2,080\u001b[0m │\n",
       "├─────────────────────────────────┼────────────────────────┼───────────────┤\n",
       "│ batch_normalization_4           │ (\u001b[38;5;45mNone\u001b[0m, \u001b[38;5;34m32\u001b[0m)             │           \u001b[38;5;34m128\u001b[0m │\n",
       "│ (\u001b[38;5;33mBatchNormalization\u001b[0m)            │                        │               │\n",
       "├─────────────────────────────────┼────────────────────────┼───────────────┤\n",
       "│ dropout_4 (\u001b[38;5;33mDropout\u001b[0m)             │ (\u001b[38;5;45mNone\u001b[0m, \u001b[38;5;34m32\u001b[0m)             │             \u001b[38;5;34m0\u001b[0m │\n",
       "├─────────────────────────────────┼────────────────────────┼───────────────┤\n",
       "│ dense_6 (\u001b[38;5;33mDense\u001b[0m)                 │ (\u001b[38;5;45mNone\u001b[0m, \u001b[38;5;34m16\u001b[0m)             │           \u001b[38;5;34m528\u001b[0m │\n",
       "├─────────────────────────────────┼────────────────────────┼───────────────┤\n",
       "│ batch_normalization_5           │ (\u001b[38;5;45mNone\u001b[0m, \u001b[38;5;34m16\u001b[0m)             │            \u001b[38;5;34m64\u001b[0m │\n",
       "│ (\u001b[38;5;33mBatchNormalization\u001b[0m)            │                        │               │\n",
       "├─────────────────────────────────┼────────────────────────┼───────────────┤\n",
       "│ dropout_5 (\u001b[38;5;33mDropout\u001b[0m)             │ (\u001b[38;5;45mNone\u001b[0m, \u001b[38;5;34m16\u001b[0m)             │             \u001b[38;5;34m0\u001b[0m │\n",
       "├─────────────────────────────────┼────────────────────────┼───────────────┤\n",
       "│ dense_7 (\u001b[38;5;33mDense\u001b[0m)                 │ (\u001b[38;5;45mNone\u001b[0m, \u001b[38;5;34m1\u001b[0m)              │            \u001b[38;5;34m17\u001b[0m │\n",
       "└─────────────────────────────────┴────────────────────────┴───────────────┘\n"
      ]
     },
     "metadata": {},
     "output_type": "display_data"
    },
    {
     "data": {
      "text/html": [
       "<pre style=\"white-space:pre;overflow-x:auto;line-height:normal;font-family:Menlo,'DejaVu Sans Mono',consolas,'Courier New',monospace\"><span style=\"font-weight: bold\"> Total params: </span><span style=\"color: #00af00; text-decoration-color: #00af00\">3,841</span> (15.00 KB)\n",
       "</pre>\n"
      ],
      "text/plain": [
       "\u001b[1m Total params: \u001b[0m\u001b[38;5;34m3,841\u001b[0m (15.00 KB)\n"
      ]
     },
     "metadata": {},
     "output_type": "display_data"
    },
    {
     "data": {
      "text/html": [
       "<pre style=\"white-space:pre;overflow-x:auto;line-height:normal;font-family:Menlo,'DejaVu Sans Mono',consolas,'Courier New',monospace\"><span style=\"font-weight: bold\"> Trainable params: </span><span style=\"color: #00af00; text-decoration-color: #00af00\">3,617</span> (14.13 KB)\n",
       "</pre>\n"
      ],
      "text/plain": [
       "\u001b[1m Trainable params: \u001b[0m\u001b[38;5;34m3,617\u001b[0m (14.13 KB)\n"
      ]
     },
     "metadata": {},
     "output_type": "display_data"
    },
    {
     "data": {
      "text/html": [
       "<pre style=\"white-space:pre;overflow-x:auto;line-height:normal;font-family:Menlo,'DejaVu Sans Mono',consolas,'Courier New',monospace\"><span style=\"font-weight: bold\"> Non-trainable params: </span><span style=\"color: #00af00; text-decoration-color: #00af00\">224</span> (896.00 B)\n",
       "</pre>\n"
      ],
      "text/plain": [
       "\u001b[1m Non-trainable params: \u001b[0m\u001b[38;5;34m224\u001b[0m (896.00 B)\n"
      ]
     },
     "metadata": {},
     "output_type": "display_data"
    }
   ],
   "source": [
    "# Calculate class weights\n",
    "class_weights = compute_class_weight('balanced', classes=np.unique(y_train), y=y_train)\n",
    "class_weights = dict(enumerate(class_weights))\n",
    "\n",
    "model = create_model(X_train_scaled.shape[1])\n",
    "model.summary()\n"
   ]
  },
  {
   "cell_type": "code",
   "execution_count": 37,
   "id": "1a068e5c91b54934",
   "metadata": {
    "ExecuteTime": {
     "end_time": "2024-07-20T12:17:02.901084Z",
     "start_time": "2024-07-20T12:17:02.888895Z"
    }
   },
   "outputs": [],
   "source": [
    "def train_model(X, y, model, n_splits=5, epochs=50, batch_size=32, class_weight=None):\n",
    "    skf = StratifiedKFold(n_splits=n_splits)\n",
    "    \n",
    "    X = np.array(X)\n",
    "    y = np.array(y)\n",
    "    \n",
    "    histories = []\n",
    "    \n",
    "    for fold, (train_idx, val_idx) in enumerate(skf.split(X, y)):\n",
    "        print(f'Training on fold {fold + 1}/{n_splits}')\n",
    "        \n",
    "        X_train, X_val = X[train_idx], X[val_idx]\n",
    "        y_train, y_val = y[train_idx], y[val_idx]\n",
    "        \n",
    "        callbacks = [\n",
    "            EarlyStopping(patience=10, restore_best_weights=True),\n",
    "            ReduceLROnPlateau(factor=0.5, patience=5, min_lr=0.00001)\n",
    "        ]\n",
    "        \n",
    "        history = model.fit(\n",
    "            X_train, y_train,\n",
    "            validation_data=(X_val, y_val),\n",
    "            epochs=epochs,\n",
    "            batch_size=batch_size,\n",
    "            class_weight=class_weight,\n",
    "            callbacks=callbacks,\n",
    "            verbose=1\n",
    "        )\n",
    "        \n",
    "        histories.append(history)\n",
    "    \n",
    "    return histories"
   ]
  },
  {
   "cell_type": "code",
   "execution_count": 38,
   "id": "efb7f646df103754",
   "metadata": {
    "ExecuteTime": {
     "end_time": "2024-07-20T12:19:09.300974Z",
     "start_time": "2024-07-20T12:17:04.680789Z"
    }
   },
   "outputs": [
    {
     "name": "stdout",
     "output_type": "stream",
     "text": [
      "Training on fold 1/5\n",
      "Epoch 1/50\n",
      "\u001b[1m38/38\u001b[0m \u001b[32m━━━━━━━━━━━━━━━━━━━━\u001b[0m\u001b[37m\u001b[0m \u001b[1m1s\u001b[0m 3ms/step - accuracy: 0.5124 - loss: 0.8817 - val_accuracy: 0.5960 - val_loss: 0.6691 - learning_rate: 0.0010\n",
      "Epoch 2/50\n",
      "\u001b[1m38/38\u001b[0m \u001b[32m━━━━━━━━━━━━━━━━━━━━\u001b[0m\u001b[37m\u001b[0m \u001b[1m0s\u001b[0m 1ms/step - accuracy: 0.5728 - loss: 0.7548 - val_accuracy: 0.6887 - val_loss: 0.6425 - learning_rate: 0.0010\n",
      "Epoch 3/50\n",
      "\u001b[1m38/38\u001b[0m \u001b[32m━━━━━━━━━━━━━━━━━━━━\u001b[0m\u001b[37m\u001b[0m \u001b[1m0s\u001b[0m 978us/step - accuracy: 0.6122 - loss: 0.7001 - val_accuracy: 0.7252 - val_loss: 0.6179 - learning_rate: 0.0010\n",
      "Epoch 4/50\n",
      "\u001b[1m38/38\u001b[0m \u001b[32m━━━━━━━━━━━━━━━━━━━━\u001b[0m\u001b[37m\u001b[0m \u001b[1m0s\u001b[0m 1ms/step - accuracy: 0.6363 - loss: 0.6652 - val_accuracy: 0.7318 - val_loss: 0.5942 - learning_rate: 0.0010\n",
      "Epoch 5/50\n",
      "\u001b[1m38/38\u001b[0m \u001b[32m━━━━━━━━━━━━━━━━━━━━\u001b[0m\u001b[37m\u001b[0m \u001b[1m0s\u001b[0m 1ms/step - accuracy: 0.6259 - loss: 0.6623 - val_accuracy: 0.7351 - val_loss: 0.5740 - learning_rate: 0.0010\n",
      "Epoch 6/50\n",
      "\u001b[1m38/38\u001b[0m \u001b[32m━━━━━━━━━━━━━━━━━━━━\u001b[0m\u001b[37m\u001b[0m \u001b[1m0s\u001b[0m 986us/step - accuracy: 0.6372 - loss: 0.6600 - val_accuracy: 0.7649 - val_loss: 0.5531 - learning_rate: 0.0010\n",
      "Epoch 7/50\n",
      "\u001b[1m38/38\u001b[0m \u001b[32m━━━━━━━━━━━━━━━━━━━━\u001b[0m\u001b[37m\u001b[0m \u001b[1m0s\u001b[0m 1000us/step - accuracy: 0.6826 - loss: 0.5877 - val_accuracy: 0.7881 - val_loss: 0.5355 - learning_rate: 0.0010\n",
      "Epoch 8/50\n",
      "\u001b[1m38/38\u001b[0m \u001b[32m━━━━━━━━━━━━━━━━━━━━\u001b[0m\u001b[37m\u001b[0m \u001b[1m0s\u001b[0m 994us/step - accuracy: 0.6655 - loss: 0.6258 - val_accuracy: 0.7914 - val_loss: 0.5244 - learning_rate: 0.0010\n",
      "Epoch 9/50\n",
      "\u001b[1m38/38\u001b[0m \u001b[32m━━━━━━━━━━━━━━━━━━━━\u001b[0m\u001b[37m\u001b[0m \u001b[1m0s\u001b[0m 1ms/step - accuracy: 0.6904 - loss: 0.5939 - val_accuracy: 0.7748 - val_loss: 0.5154 - learning_rate: 0.0010\n",
      "Epoch 10/50\n",
      "\u001b[1m38/38\u001b[0m \u001b[32m━━━━━━━━━━━━━━━━━━━━\u001b[0m\u001b[37m\u001b[0m \u001b[1m0s\u001b[0m 992us/step - accuracy: 0.7019 - loss: 0.5695 - val_accuracy: 0.7815 - val_loss: 0.5066 - learning_rate: 0.0010\n",
      "Epoch 11/50\n",
      "\u001b[1m38/38\u001b[0m \u001b[32m━━━━━━━━━━━━━━━━━━━━\u001b[0m\u001b[37m\u001b[0m \u001b[1m0s\u001b[0m 1ms/step - accuracy: 0.7246 - loss: 0.5584 - val_accuracy: 0.8013 - val_loss: 0.4941 - learning_rate: 0.0010\n",
      "Epoch 12/50\n",
      "\u001b[1m38/38\u001b[0m \u001b[32m━━━━━━━━━━━━━━━━━━━━\u001b[0m\u001b[37m\u001b[0m \u001b[1m0s\u001b[0m 997us/step - accuracy: 0.7319 - loss: 0.5361 - val_accuracy: 0.7947 - val_loss: 0.4901 - learning_rate: 0.0010\n",
      "Epoch 13/50\n",
      "\u001b[1m38/38\u001b[0m \u001b[32m━━━━━━━━━━━━━━━━━━━━\u001b[0m\u001b[37m\u001b[0m \u001b[1m0s\u001b[0m 984us/step - accuracy: 0.7497 - loss: 0.5239 - val_accuracy: 0.8046 - val_loss: 0.4830 - learning_rate: 0.0010\n",
      "Epoch 14/50\n",
      "\u001b[1m38/38\u001b[0m \u001b[32m━━━━━━━━━━━━━━━━━━━━\u001b[0m\u001b[37m\u001b[0m \u001b[1m0s\u001b[0m 969us/step - accuracy: 0.7428 - loss: 0.5262 - val_accuracy: 0.8113 - val_loss: 0.4787 - learning_rate: 0.0010\n",
      "Epoch 15/50\n",
      "\u001b[1m38/38\u001b[0m \u001b[32m━━━━━━━━━━━━━━━━━━━━\u001b[0m\u001b[37m\u001b[0m \u001b[1m0s\u001b[0m 957us/step - accuracy: 0.6783 - loss: 0.5785 - val_accuracy: 0.8179 - val_loss: 0.4741 - learning_rate: 0.0010\n",
      "Epoch 16/50\n",
      "\u001b[1m38/38\u001b[0m \u001b[32m━━━━━━━━━━━━━━━━━━━━\u001b[0m\u001b[37m\u001b[0m \u001b[1m0s\u001b[0m 953us/step - accuracy: 0.7187 - loss: 0.5398 - val_accuracy: 0.8179 - val_loss: 0.4682 - learning_rate: 0.0010\n",
      "Epoch 17/50\n",
      "\u001b[1m38/38\u001b[0m \u001b[32m━━━━━━━━━━━━━━━━━━━━\u001b[0m\u001b[37m\u001b[0m \u001b[1m0s\u001b[0m 1ms/step - accuracy: 0.7273 - loss: 0.5237 - val_accuracy: 0.8278 - val_loss: 0.4669 - learning_rate: 0.0010\n",
      "Epoch 18/50\n",
      "\u001b[1m38/38\u001b[0m \u001b[32m━━━━━━━━━━━━━━━━━━━━\u001b[0m\u001b[37m\u001b[0m \u001b[1m0s\u001b[0m 992us/step - accuracy: 0.7533 - loss: 0.4909 - val_accuracy: 0.8212 - val_loss: 0.4627 - learning_rate: 0.0010\n",
      "Epoch 19/50\n",
      "\u001b[1m38/38\u001b[0m \u001b[32m━━━━━━━━━━━━━━━━━━━━\u001b[0m\u001b[37m\u001b[0m \u001b[1m0s\u001b[0m 939us/step - accuracy: 0.7535 - loss: 0.5023 - val_accuracy: 0.8146 - val_loss: 0.4599 - learning_rate: 0.0010\n",
      "Epoch 20/50\n",
      "\u001b[1m38/38\u001b[0m \u001b[32m━━━━━━━━━━━━━━━━━━━━\u001b[0m\u001b[37m\u001b[0m \u001b[1m0s\u001b[0m 934us/step - accuracy: 0.7653 - loss: 0.4874 - val_accuracy: 0.8212 - val_loss: 0.4530 - learning_rate: 0.0010\n",
      "Epoch 21/50\n",
      "\u001b[1m38/38\u001b[0m \u001b[32m━━━━━━━━━━━━━━━━━━━━\u001b[0m\u001b[37m\u001b[0m \u001b[1m0s\u001b[0m 928us/step - accuracy: 0.7402 - loss: 0.5310 - val_accuracy: 0.8179 - val_loss: 0.4526 - learning_rate: 0.0010\n",
      "Epoch 22/50\n",
      "\u001b[1m38/38\u001b[0m \u001b[32m━━━━━━━━━━━━━━━━━━━━\u001b[0m\u001b[37m\u001b[0m \u001b[1m0s\u001b[0m 904us/step - accuracy: 0.7610 - loss: 0.4715 - val_accuracy: 0.8212 - val_loss: 0.4490 - learning_rate: 0.0010\n",
      "Epoch 23/50\n",
      "\u001b[1m38/38\u001b[0m \u001b[32m━━━━━━━━━━━━━━━━━━━━\u001b[0m\u001b[37m\u001b[0m \u001b[1m0s\u001b[0m 2ms/step - accuracy: 0.7505 - loss: 0.5096 - val_accuracy: 0.8179 - val_loss: 0.4412 - learning_rate: 0.0010\n",
      "Epoch 24/50\n",
      "\u001b[1m38/38\u001b[0m \u001b[32m━━━━━━━━━━━━━━━━━━━━\u001b[0m\u001b[37m\u001b[0m \u001b[1m0s\u001b[0m 914us/step - accuracy: 0.7821 - loss: 0.4584 - val_accuracy: 0.8179 - val_loss: 0.4365 - learning_rate: 0.0010\n",
      "Epoch 25/50\n",
      "\u001b[1m38/38\u001b[0m \u001b[32m━━━━━━━━━━━━━━━━━━━━\u001b[0m\u001b[37m\u001b[0m \u001b[1m0s\u001b[0m 882us/step - accuracy: 0.7837 - loss: 0.4468 - val_accuracy: 0.8179 - val_loss: 0.4325 - learning_rate: 0.0010\n",
      "Epoch 26/50\n",
      "\u001b[1m38/38\u001b[0m \u001b[32m━━━━━━━━━━━━━━━━━━━━\u001b[0m\u001b[37m\u001b[0m \u001b[1m0s\u001b[0m 923us/step - accuracy: 0.7775 - loss: 0.4662 - val_accuracy: 0.8245 - val_loss: 0.4248 - learning_rate: 0.0010\n",
      "Epoch 27/50\n",
      "\u001b[1m38/38\u001b[0m \u001b[32m━━━━━━━━━━━━━━━━━━━━\u001b[0m\u001b[37m\u001b[0m \u001b[1m0s\u001b[0m 911us/step - accuracy: 0.7950 - loss: 0.4484 - val_accuracy: 0.8179 - val_loss: 0.4291 - learning_rate: 0.0010\n",
      "Epoch 28/50\n",
      "\u001b[1m38/38\u001b[0m \u001b[32m━━━━━━━━━━━━━━━━━━━━\u001b[0m\u001b[37m\u001b[0m \u001b[1m0s\u001b[0m 902us/step - accuracy: 0.7738 - loss: 0.4761 - val_accuracy: 0.8245 - val_loss: 0.4103 - learning_rate: 0.0010\n",
      "Epoch 29/50\n",
      "\u001b[1m38/38\u001b[0m \u001b[32m━━━━━━━━━━━━━━━━━━━━\u001b[0m\u001b[37m\u001b[0m \u001b[1m0s\u001b[0m 889us/step - accuracy: 0.8018 - loss: 0.4276 - val_accuracy: 0.8278 - val_loss: 0.4069 - learning_rate: 0.0010\n",
      "Epoch 30/50\n",
      "\u001b[1m38/38\u001b[0m \u001b[32m━━━━━━━━━━━━━━━━━━━━\u001b[0m\u001b[37m\u001b[0m \u001b[1m0s\u001b[0m 865us/step - accuracy: 0.7948 - loss: 0.4387 - val_accuracy: 0.8344 - val_loss: 0.4086 - learning_rate: 0.0010\n",
      "Epoch 31/50\n",
      "\u001b[1m38/38\u001b[0m \u001b[32m━━━━━━━━━━━━━━━━━━━━\u001b[0m\u001b[37m\u001b[0m \u001b[1m0s\u001b[0m 895us/step - accuracy: 0.8079 - loss: 0.4125 - val_accuracy: 0.8344 - val_loss: 0.4048 - learning_rate: 0.0010\n",
      "Epoch 32/50\n",
      "\u001b[1m38/38\u001b[0m \u001b[32m━━━━━━━━━━━━━━━━━━━━\u001b[0m\u001b[37m\u001b[0m \u001b[1m0s\u001b[0m 879us/step - accuracy: 0.8278 - loss: 0.4122 - val_accuracy: 0.8377 - val_loss: 0.4060 - learning_rate: 0.0010\n",
      "Epoch 33/50\n",
      "\u001b[1m38/38\u001b[0m \u001b[32m━━━━━━━━━━━━━━━━━━━━\u001b[0m\u001b[37m\u001b[0m \u001b[1m0s\u001b[0m 893us/step - accuracy: 0.7951 - loss: 0.4538 - val_accuracy: 0.8444 - val_loss: 0.3992 - learning_rate: 0.0010\n",
      "Epoch 34/50\n",
      "\u001b[1m38/38\u001b[0m \u001b[32m━━━━━━━━━━━━━━━━━━━━\u001b[0m\u001b[37m\u001b[0m \u001b[1m0s\u001b[0m 883us/step - accuracy: 0.8138 - loss: 0.3991 - val_accuracy: 0.8377 - val_loss: 0.3935 - learning_rate: 0.0010\n",
      "Epoch 35/50\n",
      "\u001b[1m38/38\u001b[0m \u001b[32m━━━━━━━━━━━━━━━━━━━━\u001b[0m\u001b[37m\u001b[0m \u001b[1m0s\u001b[0m 892us/step - accuracy: 0.8262 - loss: 0.4071 - val_accuracy: 0.8377 - val_loss: 0.3948 - learning_rate: 0.0010\n",
      "Epoch 36/50\n",
      "\u001b[1m38/38\u001b[0m \u001b[32m━━━━━━━━━━━━━━━━━━━━\u001b[0m\u001b[37m\u001b[0m \u001b[1m0s\u001b[0m 867us/step - accuracy: 0.8254 - loss: 0.4237 - val_accuracy: 0.8179 - val_loss: 0.4035 - learning_rate: 0.0010\n",
      "Epoch 37/50\n",
      "\u001b[1m38/38\u001b[0m \u001b[32m━━━━━━━━━━━━━━━━━━━━\u001b[0m\u001b[37m\u001b[0m \u001b[1m0s\u001b[0m 893us/step - accuracy: 0.8360 - loss: 0.4013 - val_accuracy: 0.8311 - val_loss: 0.3919 - learning_rate: 0.0010\n",
      "Epoch 38/50\n",
      "\u001b[1m38/38\u001b[0m \u001b[32m━━━━━━━━━━━━━━━━━━━━\u001b[0m\u001b[37m\u001b[0m \u001b[1m0s\u001b[0m 939us/step - accuracy: 0.8321 - loss: 0.3964 - val_accuracy: 0.8344 - val_loss: 0.3835 - learning_rate: 0.0010\n",
      "Epoch 39/50\n",
      "\u001b[1m38/38\u001b[0m \u001b[32m━━━━━━━━━━━━━━━━━━━━\u001b[0m\u001b[37m\u001b[0m \u001b[1m0s\u001b[0m 892us/step - accuracy: 0.8477 - loss: 0.3634 - val_accuracy: 0.8377 - val_loss: 0.3831 - learning_rate: 0.0010\n",
      "Epoch 40/50\n",
      "\u001b[1m38/38\u001b[0m \u001b[32m━━━━━━━━━━━━━━━━━━━━\u001b[0m\u001b[37m\u001b[0m \u001b[1m0s\u001b[0m 884us/step - accuracy: 0.8088 - loss: 0.4191 - val_accuracy: 0.8477 - val_loss: 0.3733 - learning_rate: 0.0010\n",
      "Epoch 41/50\n",
      "\u001b[1m38/38\u001b[0m \u001b[32m━━━━━━━━━━━━━━━━━━━━\u001b[0m\u001b[37m\u001b[0m \u001b[1m0s\u001b[0m 891us/step - accuracy: 0.8242 - loss: 0.3906 - val_accuracy: 0.8477 - val_loss: 0.3656 - learning_rate: 0.0010\n",
      "Epoch 42/50\n",
      "\u001b[1m38/38\u001b[0m \u001b[32m━━━━━━━━━━━━━━━━━━━━\u001b[0m\u001b[37m\u001b[0m \u001b[1m0s\u001b[0m 850us/step - accuracy: 0.8246 - loss: 0.3803 - val_accuracy: 0.8477 - val_loss: 0.3668 - learning_rate: 0.0010\n",
      "Epoch 43/50\n",
      "\u001b[1m38/38\u001b[0m \u001b[32m━━━━━━━━━━━━━━━━━━━━\u001b[0m\u001b[37m\u001b[0m \u001b[1m0s\u001b[0m 905us/step - accuracy: 0.7956 - loss: 0.4230 - val_accuracy: 0.8311 - val_loss: 0.3670 - learning_rate: 0.0010\n",
      "Epoch 44/50\n",
      "\u001b[1m38/38\u001b[0m \u001b[32m━━━━━━━━━━━━━━━━━━━━\u001b[0m\u001b[37m\u001b[0m \u001b[1m0s\u001b[0m 889us/step - accuracy: 0.8123 - loss: 0.4031 - val_accuracy: 0.8377 - val_loss: 0.3672 - learning_rate: 0.0010\n",
      "Epoch 45/50\n",
      "\u001b[1m38/38\u001b[0m \u001b[32m━━━━━━━━━━━━━━━━━━━━\u001b[0m\u001b[37m\u001b[0m \u001b[1m0s\u001b[0m 895us/step - accuracy: 0.8452 - loss: 0.3738 - val_accuracy: 0.8477 - val_loss: 0.3514 - learning_rate: 0.0010\n",
      "Epoch 46/50\n",
      "\u001b[1m38/38\u001b[0m \u001b[32m━━━━━━━━━━━━━━━━━━━━\u001b[0m\u001b[37m\u001b[0m \u001b[1m0s\u001b[0m 881us/step - accuracy: 0.8360 - loss: 0.3575 - val_accuracy: 0.8576 - val_loss: 0.3516 - learning_rate: 0.0010\n",
      "Epoch 47/50\n",
      "\u001b[1m38/38\u001b[0m \u001b[32m━━━━━━━━━━━━━━━━━━━━\u001b[0m\u001b[37m\u001b[0m \u001b[1m0s\u001b[0m 883us/step - accuracy: 0.8352 - loss: 0.3800 - val_accuracy: 0.8642 - val_loss: 0.3537 - learning_rate: 0.0010\n",
      "Epoch 48/50\n",
      "\u001b[1m38/38\u001b[0m \u001b[32m━━━━━━━━━━━━━━━━━━━━\u001b[0m\u001b[37m\u001b[0m \u001b[1m0s\u001b[0m 862us/step - accuracy: 0.8365 - loss: 0.3772 - val_accuracy: 0.8510 - val_loss: 0.3535 - learning_rate: 0.0010\n",
      "Epoch 49/50\n",
      "\u001b[1m38/38\u001b[0m \u001b[32m━━━━━━━━━━━━━━━━━━━━\u001b[0m\u001b[37m\u001b[0m \u001b[1m0s\u001b[0m 881us/step - accuracy: 0.8239 - loss: 0.3700 - val_accuracy: 0.8543 - val_loss: 0.3496 - learning_rate: 0.0010\n",
      "Epoch 50/50\n",
      "\u001b[1m38/38\u001b[0m \u001b[32m━━━━━━━━━━━━━━━━━━━━\u001b[0m\u001b[37m\u001b[0m \u001b[1m0s\u001b[0m 896us/step - accuracy: 0.8469 - loss: 0.3526 - val_accuracy: 0.8543 - val_loss: 0.3473 - learning_rate: 0.0010\n",
      "Training on fold 2/5\n",
      "Epoch 1/50\n",
      "\u001b[1m38/38\u001b[0m \u001b[32m━━━━━━━━━━━━━━━━━━━━\u001b[0m\u001b[37m\u001b[0m \u001b[1m0s\u001b[0m 1ms/step - accuracy: 0.8534 - loss: 0.3699 - val_accuracy: 0.9106 - val_loss: 0.2581 - learning_rate: 0.0010\n",
      "Epoch 2/50\n",
      "\u001b[1m38/38\u001b[0m \u001b[32m━━━━━━━━━━━━━━━━━━━━\u001b[0m\u001b[37m\u001b[0m \u001b[1m0s\u001b[0m 876us/step - accuracy: 0.8362 - loss: 0.3838 - val_accuracy: 0.9139 - val_loss: 0.2607 - learning_rate: 0.0010\n",
      "Epoch 3/50\n",
      "\u001b[1m38/38\u001b[0m \u001b[32m━━━━━━━━━━━━━━━━━━━━\u001b[0m\u001b[37m\u001b[0m \u001b[1m0s\u001b[0m 813us/step - accuracy: 0.8371 - loss: 0.3617 - val_accuracy: 0.9040 - val_loss: 0.2634 - learning_rate: 0.0010\n",
      "Epoch 4/50\n",
      "\u001b[1m38/38\u001b[0m \u001b[32m━━━━━━━━━━━━━━━━━━━━\u001b[0m\u001b[37m\u001b[0m \u001b[1m0s\u001b[0m 828us/step - accuracy: 0.8559 - loss: 0.3684 - val_accuracy: 0.9106 - val_loss: 0.2606 - learning_rate: 0.0010\n",
      "Epoch 5/50\n",
      "\u001b[1m38/38\u001b[0m \u001b[32m━━━━━━━━━━━━━━━━━━━━\u001b[0m\u001b[37m\u001b[0m \u001b[1m0s\u001b[0m 852us/step - accuracy: 0.8375 - loss: 0.3718 - val_accuracy: 0.9139 - val_loss: 0.2573 - learning_rate: 0.0010\n",
      "Epoch 6/50\n",
      "\u001b[1m38/38\u001b[0m \u001b[32m━━━━━━━━━━━━━━━━━━━━\u001b[0m\u001b[37m\u001b[0m \u001b[1m0s\u001b[0m 2ms/step - accuracy: 0.8560 - loss: 0.3440 - val_accuracy: 0.9007 - val_loss: 0.2583 - learning_rate: 0.0010\n",
      "Epoch 7/50\n",
      "\u001b[1m38/38\u001b[0m \u001b[32m━━━━━━━━━━━━━━━━━━━━\u001b[0m\u001b[37m\u001b[0m \u001b[1m0s\u001b[0m 883us/step - accuracy: 0.8327 - loss: 0.3830 - val_accuracy: 0.8907 - val_loss: 0.2659 - learning_rate: 0.0010\n",
      "Epoch 8/50\n",
      "\u001b[1m38/38\u001b[0m \u001b[32m━━━━━━━━━━━━━━━━━━━━\u001b[0m\u001b[37m\u001b[0m \u001b[1m0s\u001b[0m 891us/step - accuracy: 0.8519 - loss: 0.3403 - val_accuracy: 0.8907 - val_loss: 0.2633 - learning_rate: 0.0010\n",
      "Epoch 9/50\n",
      "\u001b[1m38/38\u001b[0m \u001b[32m━━━━━━━━━━━━━━━━━━━━\u001b[0m\u001b[37m\u001b[0m \u001b[1m0s\u001b[0m 869us/step - accuracy: 0.8404 - loss: 0.3492 - val_accuracy: 0.8841 - val_loss: 0.2629 - learning_rate: 0.0010\n",
      "Epoch 10/50\n",
      "\u001b[1m38/38\u001b[0m \u001b[32m━━━━━━━━━━━━━━━━━━━━\u001b[0m\u001b[37m\u001b[0m \u001b[1m0s\u001b[0m 888us/step - accuracy: 0.8341 - loss: 0.3691 - val_accuracy: 0.8974 - val_loss: 0.2572 - learning_rate: 0.0010\n",
      "Epoch 11/50\n",
      "\u001b[1m38/38\u001b[0m \u001b[32m━━━━━━━━━━━━━━━━━━━━\u001b[0m\u001b[37m\u001b[0m \u001b[1m0s\u001b[0m 905us/step - accuracy: 0.8636 - loss: 0.3607 - val_accuracy: 0.8940 - val_loss: 0.2531 - learning_rate: 0.0010\n",
      "Epoch 12/50\n",
      "\u001b[1m38/38\u001b[0m \u001b[32m━━━━━━━━━━━━━━━━━━━━\u001b[0m\u001b[37m\u001b[0m \u001b[1m0s\u001b[0m 874us/step - accuracy: 0.8609 - loss: 0.3162 - val_accuracy: 0.8940 - val_loss: 0.2577 - learning_rate: 0.0010\n",
      "Epoch 13/50\n",
      "\u001b[1m38/38\u001b[0m \u001b[32m━━━━━━━━━━━━━━━━━━━━\u001b[0m\u001b[37m\u001b[0m \u001b[1m0s\u001b[0m 890us/step - accuracy: 0.8637 - loss: 0.3198 - val_accuracy: 0.8974 - val_loss: 0.2536 - learning_rate: 0.0010\n",
      "Epoch 14/50\n",
      "\u001b[1m38/38\u001b[0m \u001b[32m━━━━━━━━━━━━━━━━━━━━\u001b[0m\u001b[37m\u001b[0m \u001b[1m0s\u001b[0m 920us/step - accuracy: 0.8505 - loss: 0.3343 - val_accuracy: 0.9040 - val_loss: 0.2523 - learning_rate: 0.0010\n",
      "Epoch 15/50\n",
      "\u001b[1m38/38\u001b[0m \u001b[32m━━━━━━━━━━━━━━━━━━━━\u001b[0m\u001b[37m\u001b[0m \u001b[1m0s\u001b[0m 856us/step - accuracy: 0.8684 - loss: 0.3251 - val_accuracy: 0.8974 - val_loss: 0.2515 - learning_rate: 0.0010\n",
      "Epoch 16/50\n",
      "\u001b[1m38/38\u001b[0m \u001b[32m━━━━━━━━━━━━━━━━━━━━\u001b[0m\u001b[37m\u001b[0m \u001b[1m0s\u001b[0m 913us/step - accuracy: 0.8692 - loss: 0.3212 - val_accuracy: 0.9073 - val_loss: 0.2475 - learning_rate: 0.0010\n",
      "Epoch 17/50\n",
      "\u001b[1m38/38\u001b[0m \u001b[32m━━━━━━━━━━━━━━━━━━━━\u001b[0m\u001b[37m\u001b[0m \u001b[1m0s\u001b[0m 871us/step - accuracy: 0.8574 - loss: 0.3418 - val_accuracy: 0.9040 - val_loss: 0.2506 - learning_rate: 0.0010\n",
      "Epoch 18/50\n",
      "\u001b[1m38/38\u001b[0m \u001b[32m━━━━━━━━━━━━━━━━━━━━\u001b[0m\u001b[37m\u001b[0m \u001b[1m0s\u001b[0m 901us/step - accuracy: 0.8473 - loss: 0.3292 - val_accuracy: 0.9106 - val_loss: 0.2427 - learning_rate: 0.0010\n",
      "Epoch 19/50\n",
      "\u001b[1m38/38\u001b[0m \u001b[32m━━━━━━━━━━━━━━━━━━━━\u001b[0m\u001b[37m\u001b[0m \u001b[1m0s\u001b[0m 890us/step - accuracy: 0.8724 - loss: 0.2968 - val_accuracy: 0.8974 - val_loss: 0.2463 - learning_rate: 0.0010\n",
      "Epoch 20/50\n",
      "\u001b[1m38/38\u001b[0m \u001b[32m━━━━━━━━━━━━━━━━━━━━\u001b[0m\u001b[37m\u001b[0m \u001b[1m0s\u001b[0m 878us/step - accuracy: 0.8538 - loss: 0.3229 - val_accuracy: 0.9007 - val_loss: 0.2440 - learning_rate: 0.0010\n",
      "Epoch 21/50\n",
      "\u001b[1m38/38\u001b[0m \u001b[32m━━━━━━━━━━━━━━━━━━━━\u001b[0m\u001b[37m\u001b[0m \u001b[1m0s\u001b[0m 882us/step - accuracy: 0.8437 - loss: 0.3600 - val_accuracy: 0.8940 - val_loss: 0.2446 - learning_rate: 0.0010\n",
      "Epoch 22/50\n",
      "\u001b[1m38/38\u001b[0m \u001b[32m━━━━━━━━━━━━━━━━━━━━\u001b[0m\u001b[37m\u001b[0m \u001b[1m0s\u001b[0m 894us/step - accuracy: 0.8506 - loss: 0.3305 - val_accuracy: 0.8974 - val_loss: 0.2482 - learning_rate: 0.0010\n",
      "Epoch 23/50\n",
      "\u001b[1m38/38\u001b[0m \u001b[32m━━━━━━━━━━━━━━━━━━━━\u001b[0m\u001b[37m\u001b[0m \u001b[1m0s\u001b[0m 879us/step - accuracy: 0.8729 - loss: 0.3033 - val_accuracy: 0.8907 - val_loss: 0.2442 - learning_rate: 0.0010\n",
      "Epoch 24/50\n",
      "\u001b[1m38/38\u001b[0m \u001b[32m━━━━━━━━━━━━━━━━━━━━\u001b[0m\u001b[37m\u001b[0m \u001b[1m0s\u001b[0m 885us/step - accuracy: 0.8658 - loss: 0.3171 - val_accuracy: 0.8940 - val_loss: 0.2432 - learning_rate: 5.0000e-04\n",
      "Epoch 25/50\n",
      "\u001b[1m38/38\u001b[0m \u001b[32m━━━━━━━━━━━━━━━━━━━━\u001b[0m\u001b[37m\u001b[0m \u001b[1m0s\u001b[0m 883us/step - accuracy: 0.8598 - loss: 0.3233 - val_accuracy: 0.8841 - val_loss: 0.2431 - learning_rate: 5.0000e-04\n",
      "Epoch 26/50\n",
      "\u001b[1m38/38\u001b[0m \u001b[32m━━━━━━━━━━━━━━━━━━━━\u001b[0m\u001b[37m\u001b[0m \u001b[1m0s\u001b[0m 896us/step - accuracy: 0.8697 - loss: 0.2816 - val_accuracy: 0.8907 - val_loss: 0.2424 - learning_rate: 5.0000e-04\n",
      "Epoch 27/50\n",
      "\u001b[1m38/38\u001b[0m \u001b[32m━━━━━━━━━━━━━━━━━━━━\u001b[0m\u001b[37m\u001b[0m \u001b[1m0s\u001b[0m 904us/step - accuracy: 0.8961 - loss: 0.2842 - val_accuracy: 0.8907 - val_loss: 0.2372 - learning_rate: 5.0000e-04\n",
      "Epoch 28/50\n",
      "\u001b[1m38/38\u001b[0m \u001b[32m━━━━━━━━━━━━━━━━━━━━\u001b[0m\u001b[37m\u001b[0m \u001b[1m0s\u001b[0m 883us/step - accuracy: 0.8718 - loss: 0.3040 - val_accuracy: 0.8907 - val_loss: 0.2384 - learning_rate: 5.0000e-04\n",
      "Epoch 29/50\n",
      "\u001b[1m38/38\u001b[0m \u001b[32m━━━━━━━━━━━━━━━━━━━━\u001b[0m\u001b[37m\u001b[0m \u001b[1m0s\u001b[0m 2ms/step - accuracy: 0.8589 - loss: 0.3248 - val_accuracy: 0.8940 - val_loss: 0.2366 - learning_rate: 5.0000e-04\n",
      "Epoch 30/50\n",
      "\u001b[1m38/38\u001b[0m \u001b[32m━━━━━━━━━━━━━━━━━━━━\u001b[0m\u001b[37m\u001b[0m \u001b[1m0s\u001b[0m 894us/step - accuracy: 0.8877 - loss: 0.2855 - val_accuracy: 0.9073 - val_loss: 0.2338 - learning_rate: 5.0000e-04\n",
      "Epoch 31/50\n",
      "\u001b[1m38/38\u001b[0m \u001b[32m━━━━━━━━━━━━━━━━━━━━\u001b[0m\u001b[37m\u001b[0m \u001b[1m0s\u001b[0m 916us/step - accuracy: 0.8691 - loss: 0.3193 - val_accuracy: 0.9007 - val_loss: 0.2393 - learning_rate: 5.0000e-04\n",
      "Epoch 32/50\n",
      "\u001b[1m38/38\u001b[0m \u001b[32m━━━━━━━━━━━━━━━━━━━━\u001b[0m\u001b[37m\u001b[0m \u001b[1m0s\u001b[0m 911us/step - accuracy: 0.8617 - loss: 0.3018 - val_accuracy: 0.8974 - val_loss: 0.2392 - learning_rate: 5.0000e-04\n",
      "Epoch 33/50\n",
      "\u001b[1m38/38\u001b[0m \u001b[32m━━━━━━━━━━━━━━━━━━━━\u001b[0m\u001b[37m\u001b[0m \u001b[1m0s\u001b[0m 880us/step - accuracy: 0.8849 - loss: 0.2622 - val_accuracy: 0.8974 - val_loss: 0.2414 - learning_rate: 5.0000e-04\n",
      "Epoch 34/50\n",
      "\u001b[1m38/38\u001b[0m \u001b[32m━━━━━━━━━━━━━━━━━━━━\u001b[0m\u001b[37m\u001b[0m \u001b[1m0s\u001b[0m 888us/step - accuracy: 0.8921 - loss: 0.2818 - val_accuracy: 0.8907 - val_loss: 0.2404 - learning_rate: 5.0000e-04\n",
      "Epoch 35/50\n",
      "\u001b[1m38/38\u001b[0m \u001b[32m━━━━━━━━━━━━━━━━━━━━\u001b[0m\u001b[37m\u001b[0m \u001b[1m0s\u001b[0m 895us/step - accuracy: 0.8791 - loss: 0.2735 - val_accuracy: 0.8974 - val_loss: 0.2394 - learning_rate: 5.0000e-04\n",
      "Epoch 36/50\n",
      "\u001b[1m38/38\u001b[0m \u001b[32m━━━━━━━━━━━━━━━━━━━━\u001b[0m\u001b[37m\u001b[0m \u001b[1m0s\u001b[0m 880us/step - accuracy: 0.8802 - loss: 0.2816 - val_accuracy: 0.8974 - val_loss: 0.2395 - learning_rate: 2.5000e-04\n",
      "Epoch 37/50\n",
      "\u001b[1m38/38\u001b[0m \u001b[32m━━━━━━━━━━━━━━━━━━━━\u001b[0m\u001b[37m\u001b[0m \u001b[1m0s\u001b[0m 889us/step - accuracy: 0.8794 - loss: 0.3022 - val_accuracy: 0.8940 - val_loss: 0.2388 - learning_rate: 2.5000e-04\n",
      "Epoch 38/50\n",
      "\u001b[1m38/38\u001b[0m \u001b[32m━━━━━━━━━━━━━━━━━━━━\u001b[0m\u001b[37m\u001b[0m \u001b[1m0s\u001b[0m 880us/step - accuracy: 0.9064 - loss: 0.2564 - val_accuracy: 0.8974 - val_loss: 0.2355 - learning_rate: 2.5000e-04\n",
      "Epoch 39/50\n",
      "\u001b[1m38/38\u001b[0m \u001b[32m━━━━━━━━━━━━━━━━━━━━\u001b[0m\u001b[37m\u001b[0m \u001b[1m0s\u001b[0m 875us/step - accuracy: 0.8714 - loss: 0.2935 - val_accuracy: 0.8974 - val_loss: 0.2354 - learning_rate: 2.5000e-04\n",
      "Epoch 40/50\n",
      "\u001b[1m38/38\u001b[0m \u001b[32m━━━━━━━━━━━━━━━━━━━━\u001b[0m\u001b[37m\u001b[0m \u001b[1m0s\u001b[0m 892us/step - accuracy: 0.8874 - loss: 0.2834 - val_accuracy: 0.9040 - val_loss: 0.2343 - learning_rate: 2.5000e-04\n",
      "Training on fold 3/5\n",
      "Epoch 1/50\n",
      "\u001b[1m38/38\u001b[0m \u001b[32m━━━━━━━━━━━━━━━━━━━━\u001b[0m\u001b[37m\u001b[0m \u001b[1m0s\u001b[0m 1ms/step - accuracy: 0.8631 - loss: 0.3206 - val_accuracy: 0.9702 - val_loss: 0.1128 - learning_rate: 1.2500e-04\n",
      "Epoch 2/50\n",
      "\u001b[1m38/38\u001b[0m \u001b[32m━━━━━━━━━━━━━━━━━━━━\u001b[0m\u001b[37m\u001b[0m \u001b[1m0s\u001b[0m 888us/step - accuracy: 0.8633 - loss: 0.3617 - val_accuracy: 0.9702 - val_loss: 0.1133 - learning_rate: 1.2500e-04\n",
      "Epoch 3/50\n",
      "\u001b[1m38/38\u001b[0m \u001b[32m━━━━━━━━━━━━━━━━━━━━\u001b[0m\u001b[37m\u001b[0m \u001b[1m0s\u001b[0m 900us/step - accuracy: 0.8675 - loss: 0.3008 - val_accuracy: 0.9702 - val_loss: 0.1134 - learning_rate: 1.2500e-04\n",
      "Epoch 4/50\n",
      "\u001b[1m38/38\u001b[0m \u001b[32m━━━━━━━━━━━━━━━━━━━━\u001b[0m\u001b[37m\u001b[0m \u001b[1m0s\u001b[0m 878us/step - accuracy: 0.8534 - loss: 0.3414 - val_accuracy: 0.9702 - val_loss: 0.1136 - learning_rate: 1.2500e-04\n",
      "Epoch 5/50\n",
      "\u001b[1m38/38\u001b[0m \u001b[32m━━━━━━━━━━━━━━━━━━━━\u001b[0m\u001b[37m\u001b[0m \u001b[1m0s\u001b[0m 890us/step - accuracy: 0.8691 - loss: 0.3020 - val_accuracy: 0.9702 - val_loss: 0.1135 - learning_rate: 1.2500e-04\n",
      "Epoch 6/50\n",
      "\u001b[1m38/38\u001b[0m \u001b[32m━━━━━━━━━━━━━━━━━━━━\u001b[0m\u001b[37m\u001b[0m \u001b[1m0s\u001b[0m 920us/step - accuracy: 0.8738 - loss: 0.3156 - val_accuracy: 0.9702 - val_loss: 0.1119 - learning_rate: 1.2500e-04\n",
      "Epoch 7/50\n",
      "\u001b[1m38/38\u001b[0m \u001b[32m━━━━━━━━━━━━━━━━━━━━\u001b[0m\u001b[37m\u001b[0m \u001b[1m0s\u001b[0m 899us/step - accuracy: 0.8670 - loss: 0.3187 - val_accuracy: 0.9702 - val_loss: 0.1110 - learning_rate: 1.2500e-04\n",
      "Epoch 8/50\n",
      "\u001b[1m38/38\u001b[0m \u001b[32m━━━━━━━━━━━━━━━━━━━━\u001b[0m\u001b[37m\u001b[0m \u001b[1m0s\u001b[0m 889us/step - accuracy: 0.8656 - loss: 0.3196 - val_accuracy: 0.9702 - val_loss: 0.1131 - learning_rate: 1.2500e-04\n",
      "Epoch 9/50\n",
      "\u001b[1m38/38\u001b[0m \u001b[32m━━━━━━━━━━━━━━━━━━━━\u001b[0m\u001b[37m\u001b[0m \u001b[1m0s\u001b[0m 884us/step - accuracy: 0.8691 - loss: 0.3109 - val_accuracy: 0.9702 - val_loss: 0.1128 - learning_rate: 1.2500e-04\n",
      "Epoch 10/50\n",
      "\u001b[1m38/38\u001b[0m \u001b[32m━━━━━━━━━━━━━━━━━━━━\u001b[0m\u001b[37m\u001b[0m \u001b[1m0s\u001b[0m 869us/step - accuracy: 0.8956 - loss: 0.2749 - val_accuracy: 0.9702 - val_loss: 0.1124 - learning_rate: 1.2500e-04\n",
      "Epoch 11/50\n",
      "\u001b[1m38/38\u001b[0m \u001b[32m━━━━━━━━━━━━━━━━━━━━\u001b[0m\u001b[37m\u001b[0m \u001b[1m0s\u001b[0m 885us/step - accuracy: 0.8560 - loss: 0.3305 - val_accuracy: 0.9702 - val_loss: 0.1127 - learning_rate: 1.2500e-04\n",
      "Epoch 12/50\n",
      "\u001b[1m38/38\u001b[0m \u001b[32m━━━━━━━━━━━━━━━━━━━━\u001b[0m\u001b[37m\u001b[0m \u001b[1m0s\u001b[0m 892us/step - accuracy: 0.8706 - loss: 0.2881 - val_accuracy: 0.9702 - val_loss: 0.1118 - learning_rate: 1.2500e-04\n",
      "Epoch 13/50\n",
      "\u001b[1m38/38\u001b[0m \u001b[32m━━━━━━━━━━━━━━━━━━━━\u001b[0m\u001b[37m\u001b[0m \u001b[1m0s\u001b[0m 869us/step - accuracy: 0.8751 - loss: 0.2905 - val_accuracy: 0.9702 - val_loss: 0.1115 - learning_rate: 6.2500e-05\n",
      "Epoch 14/50\n",
      "\u001b[1m38/38\u001b[0m \u001b[32m━━━━━━━━━━━━━━━━━━━━\u001b[0m\u001b[37m\u001b[0m \u001b[1m0s\u001b[0m 2ms/step - accuracy: 0.8614 - loss: 0.3295 - val_accuracy: 0.9702 - val_loss: 0.1123 - learning_rate: 6.2500e-05\n",
      "Epoch 15/50\n",
      "\u001b[1m38/38\u001b[0m \u001b[32m━━━━━━━━━━━━━━━━━━━━\u001b[0m\u001b[37m\u001b[0m \u001b[1m0s\u001b[0m 880us/step - accuracy: 0.8678 - loss: 0.3375 - val_accuracy: 0.9702 - val_loss: 0.1116 - learning_rate: 6.2500e-05\n",
      "Epoch 16/50\n",
      "\u001b[1m38/38\u001b[0m \u001b[32m━━━━━━━━━━━━━━━━━━━━\u001b[0m\u001b[37m\u001b[0m \u001b[1m0s\u001b[0m 884us/step - accuracy: 0.8929 - loss: 0.2742 - val_accuracy: 0.9702 - val_loss: 0.1118 - learning_rate: 6.2500e-05\n",
      "Epoch 17/50\n",
      "\u001b[1m38/38\u001b[0m \u001b[32m━━━━━━━━━━━━━━━━━━━━\u001b[0m\u001b[37m\u001b[0m \u001b[1m0s\u001b[0m 856us/step - accuracy: 0.8765 - loss: 0.2840 - val_accuracy: 0.9702 - val_loss: 0.1121 - learning_rate: 6.2500e-05\n",
      "Training on fold 4/5\n",
      "Epoch 1/50\n",
      "\u001b[1m38/38\u001b[0m \u001b[32m━━━━━━━━━━━━━━━━━━━━\u001b[0m\u001b[37m\u001b[0m \u001b[1m0s\u001b[0m 1ms/step - accuracy: 0.8686 - loss: 0.3145 - val_accuracy: 0.9635 - val_loss: 0.1246 - learning_rate: 3.1250e-05\n",
      "Epoch 2/50\n",
      "\u001b[1m38/38\u001b[0m \u001b[32m━━━━━━━━━━━━━━━━━━━━\u001b[0m\u001b[37m\u001b[0m \u001b[1m0s\u001b[0m 909us/step - accuracy: 0.8856 - loss: 0.2983 - val_accuracy: 0.9668 - val_loss: 0.1240 - learning_rate: 3.1250e-05\n",
      "Epoch 3/50\n",
      "\u001b[1m38/38\u001b[0m \u001b[32m━━━━━━━━━━━━━━━━━━━━\u001b[0m\u001b[37m\u001b[0m \u001b[1m0s\u001b[0m 876us/step - accuracy: 0.8533 - loss: 0.3723 - val_accuracy: 0.9635 - val_loss: 0.1246 - learning_rate: 3.1250e-05\n",
      "Epoch 4/50\n",
      "\u001b[1m38/38\u001b[0m \u001b[32m━━━━━━━━━━━━━━━━━━━━\u001b[0m\u001b[37m\u001b[0m \u001b[1m0s\u001b[0m 868us/step - accuracy: 0.8789 - loss: 0.2857 - val_accuracy: 0.9635 - val_loss: 0.1251 - learning_rate: 3.1250e-05\n",
      "Epoch 5/50\n",
      "\u001b[1m38/38\u001b[0m \u001b[32m━━━━━━━━━━━━━━━━━━━━\u001b[0m\u001b[37m\u001b[0m \u001b[1m0s\u001b[0m 876us/step - accuracy: 0.8816 - loss: 0.3025 - val_accuracy: 0.9635 - val_loss: 0.1254 - learning_rate: 3.1250e-05\n",
      "Epoch 6/50\n",
      "\u001b[1m38/38\u001b[0m \u001b[32m━━━━━━━━━━━━━━━━━━━━\u001b[0m\u001b[37m\u001b[0m \u001b[1m0s\u001b[0m 884us/step - accuracy: 0.8656 - loss: 0.3239 - val_accuracy: 0.9635 - val_loss: 0.1256 - learning_rate: 3.1250e-05\n",
      "Epoch 7/50\n",
      "\u001b[1m38/38\u001b[0m \u001b[32m━━━━━━━━━━━━━━━━━━━━\u001b[0m\u001b[37m\u001b[0m \u001b[1m0s\u001b[0m 863us/step - accuracy: 0.8678 - loss: 0.3098 - val_accuracy: 0.9668 - val_loss: 0.1258 - learning_rate: 3.1250e-05\n",
      "Epoch 8/50\n",
      "\u001b[1m38/38\u001b[0m \u001b[32m━━━━━━━━━━━━━━━━━━━━\u001b[0m\u001b[37m\u001b[0m \u001b[1m0s\u001b[0m 878us/step - accuracy: 0.8522 - loss: 0.3541 - val_accuracy: 0.9668 - val_loss: 0.1247 - learning_rate: 1.5625e-05\n",
      "Epoch 9/50\n",
      "\u001b[1m38/38\u001b[0m \u001b[32m━━━━━━━━━━━━━━━━━━━━\u001b[0m\u001b[37m\u001b[0m \u001b[1m0s\u001b[0m 884us/step - accuracy: 0.8522 - loss: 0.3274 - val_accuracy: 0.9635 - val_loss: 0.1253 - learning_rate: 1.5625e-05\n",
      "Epoch 10/50\n",
      "\u001b[1m38/38\u001b[0m \u001b[32m━━━━━━━━━━━━━━━━━━━━\u001b[0m\u001b[37m\u001b[0m \u001b[1m0s\u001b[0m 891us/step - accuracy: 0.8747 - loss: 0.3157 - val_accuracy: 0.9635 - val_loss: 0.1256 - learning_rate: 1.5625e-05\n",
      "Epoch 11/50\n",
      "\u001b[1m38/38\u001b[0m \u001b[32m━━━━━━━━━━━━━━━━━━━━\u001b[0m\u001b[37m\u001b[0m \u001b[1m0s\u001b[0m 871us/step - accuracy: 0.8596 - loss: 0.2992 - val_accuracy: 0.9668 - val_loss: 0.1258 - learning_rate: 1.5625e-05\n",
      "Epoch 12/50\n",
      "\u001b[1m38/38\u001b[0m \u001b[32m━━━━━━━━━━━━━━━━━━━━\u001b[0m\u001b[37m\u001b[0m \u001b[1m0s\u001b[0m 878us/step - accuracy: 0.8614 - loss: 0.3149 - val_accuracy: 0.9635 - val_loss: 0.1254 - learning_rate: 1.5625e-05\n",
      "Training on fold 5/5\n",
      "Epoch 1/50\n",
      "\u001b[1m38/38\u001b[0m \u001b[32m━━━━━━━━━━━━━━━━━━━━\u001b[0m\u001b[37m\u001b[0m \u001b[1m0s\u001b[0m 1ms/step - accuracy: 0.8716 - loss: 0.3047 - val_accuracy: 0.9668 - val_loss: 0.1299 - learning_rate: 1.0000e-05\n",
      "Epoch 2/50\n",
      "\u001b[1m38/38\u001b[0m \u001b[32m━━━━━━━━━━━━━━━━━━━━\u001b[0m\u001b[37m\u001b[0m \u001b[1m0s\u001b[0m 885us/step - accuracy: 0.8958 - loss: 0.2792 - val_accuracy: 0.9668 - val_loss: 0.1318 - learning_rate: 1.0000e-05\n",
      "Epoch 3/50\n",
      "\u001b[1m38/38\u001b[0m \u001b[32m━━━━━━━━━━━━━━━━━━━━\u001b[0m\u001b[37m\u001b[0m \u001b[1m0s\u001b[0m 891us/step - accuracy: 0.8583 - loss: 0.3169 - val_accuracy: 0.9668 - val_loss: 0.1326 - learning_rate: 1.0000e-05\n",
      "Epoch 4/50\n",
      "\u001b[1m38/38\u001b[0m \u001b[32m━━━━━━━━━━━━━━━━━━━━\u001b[0m\u001b[37m\u001b[0m \u001b[1m0s\u001b[0m 883us/step - accuracy: 0.8852 - loss: 0.2725 - val_accuracy: 0.9668 - val_loss: 0.1330 - learning_rate: 1.0000e-05\n",
      "Epoch 5/50\n",
      "\u001b[1m38/38\u001b[0m \u001b[32m━━━━━━━━━━━━━━━━━━━━\u001b[0m\u001b[37m\u001b[0m \u001b[1m0s\u001b[0m 1ms/step - accuracy: 0.8822 - loss: 0.2807 - val_accuracy: 0.9668 - val_loss: 0.1337 - learning_rate: 1.0000e-05\n",
      "Epoch 6/50\n",
      "\u001b[1m38/38\u001b[0m \u001b[32m━━━━━━━━━━━━━━━━━━━━\u001b[0m\u001b[37m\u001b[0m \u001b[1m0s\u001b[0m 957us/step - accuracy: 0.8699 - loss: 0.3132 - val_accuracy: 0.9668 - val_loss: 0.1323 - learning_rate: 1.0000e-05\n",
      "Epoch 7/50\n",
      "\u001b[1m38/38\u001b[0m \u001b[32m━━━━━━━━━━━━━━━━━━━━\u001b[0m\u001b[37m\u001b[0m \u001b[1m0s\u001b[0m 2ms/step - accuracy: 0.8565 - loss: 0.3342 - val_accuracy: 0.9668 - val_loss: 0.1332 - learning_rate: 1.0000e-05\n",
      "Epoch 8/50\n",
      "\u001b[1m38/38\u001b[0m \u001b[32m━━━━━━━━━━━━━━━━━━━━\u001b[0m\u001b[37m\u001b[0m \u001b[1m0s\u001b[0m 956us/step - accuracy: 0.8694 - loss: 0.3294 - val_accuracy: 0.9668 - val_loss: 0.1325 - learning_rate: 1.0000e-05\n",
      "Epoch 9/50\n",
      "\u001b[1m38/38\u001b[0m \u001b[32m━━━━━━━━━━━━━━━━━━━━\u001b[0m\u001b[37m\u001b[0m \u001b[1m0s\u001b[0m 987us/step - accuracy: 0.8495 - loss: 0.3291 - val_accuracy: 0.9668 - val_loss: 0.1344 - learning_rate: 1.0000e-05\n",
      "Epoch 10/50\n",
      "\u001b[1m38/38\u001b[0m \u001b[32m━━━━━━━━━━━━━━━━━━━━\u001b[0m\u001b[37m\u001b[0m \u001b[1m0s\u001b[0m 964us/step - accuracy: 0.8373 - loss: 0.3354 - val_accuracy: 0.9668 - val_loss: 0.1331 - learning_rate: 1.0000e-05\n",
      "Epoch 11/50\n",
      "\u001b[1m38/38\u001b[0m \u001b[32m━━━━━━━━━━━━━━━━━━━━\u001b[0m\u001b[37m\u001b[0m \u001b[1m0s\u001b[0m 955us/step - accuracy: 0.8566 - loss: 0.3302 - val_accuracy: 0.9668 - val_loss: 0.1333 - learning_rate: 1.0000e-05\n"
     ]
    }
   ],
   "source": [
    "histories = train_model(X_train_scaled, y_train, model, class_weight=class_weights)\n",
    "model.save('fraud_detection_model.keras')\n",
    "\n"
   ]
  },
  {
   "cell_type": "code",
   "execution_count": null,
   "id": "a424da9da2c87d6f",
   "metadata": {
    "ExecuteTime": {
     "end_time": "2024-07-20T12:19:21.791273Z",
     "start_time": "2024-07-20T12:19:21.737211Z"
    }
   },
   "outputs": [],
   "source": [
    "\n"
   ]
  },
  {
   "cell_type": "code",
   "execution_count": 39,
   "id": "29160f0595a3a51c",
   "metadata": {
    "ExecuteTime": {
     "end_time": "2024-07-20T12:25:40.585313Z",
     "start_time": "2024-07-20T12:25:40.491783Z"
    }
   },
   "outputs": [
    {
     "name": "stdout",
     "output_type": "stream",
     "text": [
      "\u001b[1m1/1\u001b[0m \u001b[32m━━━━━━━━━━━━━━━━━━━━\u001b[0m\u001b[37m\u001b[0m \u001b[1m0s\u001b[0m 40ms/step\n",
      "Fraud Score: 0.0\n"
     ]
    }
   ],
   "source": [
    "# Make prediction\n",
    "prediction = model.predict(preprocessed_transaction)\n",
    "fraud_score = prediction[0][0]\n",
    "\n",
    "print(\"Fraud Score:\", fraud_score)\n"
   ]
  },
  {
   "cell_type": "code",
   "execution_count": 40,
   "id": "b789caa134f7f860",
   "metadata": {
    "ExecuteTime": {
     "end_time": "2024-07-20T12:25:43.266046Z",
     "start_time": "2024-07-20T12:25:42.990164Z"
    }
   },
   "outputs": [],
   "source": [
    "# Load the model\n",
    "model = load_model('fraud_detection_model.keras')\n",
    "scaler = joblib.load('scaler.pkl')\n"
   ]
  },
  {
   "cell_type": "code",
   "execution_count": 41,
   "id": "be1407958adeb9e7",
   "metadata": {
    "ExecuteTime": {
     "end_time": "2024-07-20T12:25:46.249972Z",
     "start_time": "2024-07-20T12:25:46.037928Z"
    }
   },
   "outputs": [
    {
     "name": "stdout",
     "output_type": "stream",
     "text": [
      "\u001b[1m1/1\u001b[0m \u001b[32m━━━━━━━━━━━━━━━━━━━━\u001b[0m\u001b[37m\u001b[0m \u001b[1m0s\u001b[0m 41ms/step\n"
     ]
    }
   ],
   "source": [
    "# Make prediction\n",
    "prediction = model.predict(preprocessed_transaction)\n",
    "fraud_score = prediction[0][0]\n"
   ]
  },
  {
   "cell_type": "code",
   "execution_count": 42,
   "id": "ba0d2831fa34cfc9",
   "metadata": {
    "ExecuteTime": {
     "end_time": "2024-07-20T12:25:48.785101Z",
     "start_time": "2024-07-20T12:25:48.771670Z"
    }
   },
   "outputs": [],
   "source": [
    "# Make prediction\n",
    "def generate_transaction_score(transaction_scaled):\n",
    "    transaction_score = model.predict(transaction_scaled)[0][0]\n",
    "    return transaction_score\n",
    "\n",
    "def detect_fraud(transaction_score, threshold=0.5):\n",
    "    return transaction_score >= threshold\n",
    "\n"
   ]
  },
  {
   "cell_type": "code",
   "execution_count": 43,
   "id": "aaa8783956d0c6ab",
   "metadata": {
    "ExecuteTime": {
     "end_time": "2024-07-20T12:25:58.207224Z",
     "start_time": "2024-07-20T12:25:51.106577Z"
    }
   },
   "outputs": [
    {
     "name": "stdout",
     "output_type": "stream",
     "text": [
      "\u001b[1m1/1\u001b[0m \u001b[32m━━━━━━━━━━━━━━━━━━━━\u001b[0m\u001b[37m\u001b[0m \u001b[1m0s\u001b[0m 8ms/step\n",
      "Transaction Score: 1.3458298e-18\n",
      "Fraud Detected: False\n"
     ]
    },
    {
     "name": "stderr",
     "output_type": "stream",
     "text": [
      "/Users/shivanshmahajan/Desktop/Innovate/venv/lib/python3.9/site-packages/sklearn/base.py:493: UserWarning: X does not have valid feature names, but StandardScaler was fitted with feature names\n",
      "  warnings.warn(\n"
     ]
    }
   ],
   "source": [
    "def main():\n",
    "    user_input = get_user_input()\n",
    "    enriched_transaction = enrich_transaction_data(user_input)\n",
    "    preprocessed_transaction = preprocess_transaction(enriched_transaction, scaler)\n",
    "    transaction_score = generate_transaction_score(preprocessed_transaction)\n",
    "    is_fraud = detect_fraud(transaction_score)\n",
    "\n",
    "    print(\"Transaction Score:\", transaction_score)\n",
    "    print(\"Fraud Detected:\", is_fraud)\n",
    "    \n",
    "if __name__ == \"__main__\":\n",
    "    main()"
   ]
  },
  {
   "cell_type": "code",
   "execution_count": null,
   "id": "564e6e20c886c57f",
   "metadata": {},
   "outputs": [],
   "source": []
  }
 ],
 "metadata": {
  "kernelspec": {
   "display_name": "Python 3",
   "language": "python",
   "name": "python3"
  },
  "language_info": {
   "codemirror_mode": {
    "name": "ipython",
    "version": 3
   },
   "file_extension": ".py",
   "mimetype": "text/x-python",
   "name": "python",
   "nbconvert_exporter": "python",
   "pygments_lexer": "ipython3",
   "version": "3.9.13"
  }
 },
 "nbformat": 4,
 "nbformat_minor": 5
}
